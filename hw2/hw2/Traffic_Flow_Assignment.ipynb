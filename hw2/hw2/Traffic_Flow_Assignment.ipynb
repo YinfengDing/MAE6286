{
 "cells": [
  {
   "cell_type": "markdown",
   "metadata": {
    "deletable": false,
    "editable": false,
    "nbgrader": {
     "cell_type": "markdown",
     "checksum": "ef0f2d3c4938a17ac09164c3bcc17402",
     "grade": false,
     "grade_id": "md-intro",
     "locked": true,
     "schema_version": 3,
     "solution": false
    }
   },
   "source": [
    "# Assignment: Traffic Flow\n",
    "\n",
    "---\n",
    "\n",
    "Consider the flow of traffic on a one-lane highway.\n",
    "How can we describe the general behavior of this system?\n",
    "\n",
    "We can define the speed of traffic, $V$, in kilometers per hour.\n",
    "We can also define a traffic density, the number of cars per unit length of highway, $\\rho$, in cars per kilometer.\n",
    "Finally, we can define a traffic flux, or the flow rate of cars, $F$,in cars per hour.\n",
    "\n",
    "Now make a few assumptions about how traffic moves.\n",
    "\n",
    "If $\\rho$ approaches $0$, i.e. there are very few cars on the road, then cars will drive as fast as they can at some $V_\\text{max}$.\n",
    "\n",
    "Conversely, if cars are bumper to bumper along the road, then $\\rho$ approaches a $\\rho_\\text{max}$ and $V$ approaches $0$.\n",
    "\n",
    "One possible equation to describe this behavior is\n",
    "\n",
    "$$\n",
    "\\begin{equation}\n",
    "    V = V_\\text{max} \\left( 1 - \\frac{\\rho}{\\rho_\\text{max}} \\right)\n",
    "\\end{equation}\n",
    "$$\n",
    "\n",
    "If we describe the traffic flux, $F$ as $F = \\rho V$, then\n",
    "\n",
    "$$\n",
    "\\begin{equation}\n",
    "    F = F \\left( \\rho \\right) = V \\left( \\rho \\right) \\rho = V_\\text{max} \\rho \\left( 1 - \\frac{\\rho}{\\rho_{max}} \\right)\n",
    "\\end{equation}\n",
    "$$\n",
    "\n",
    "Unsteady traffic flow can be modeled as the non-linear convection of car density, so we apply the non-linear convection equation with $V$, the wave speed, equal to $\\frac{\\partial F}{\\partial \\rho}$:\n",
    "\n",
    "$$\n",
    "\\begin{equation}\n",
    "    \\frac{\\partial \\rho}{\\partial t} + \\frac{\\partial F}{\\partial \\rho} \\frac{\\partial \\rho}{\\partial x} = 0\n",
    "\\end{equation}\n",
    "$$\n",
    "\n",
    "Applying the chain rule of calculus, this becomes\n",
    "\n",
    "$$\n",
    "\\begin{equation}\n",
    "    \\frac{\\partial \\rho}{\\partial t} + \\frac{\\partial F}{\\partial x} = 0\n",
    "\\end{equation}\n",
    "$$\n",
    "\n",
    "where $F$ is defined as above.\n",
    "The PDE above is written in conservation form.\n",
    "(See section at the end of Notebook for more details about the conservation form.)\n",
    "\n",
    "You will integrate the traffic flow equation (in conservation form) using the modified Euler's method (also called midpoint method or Runge-Kutta second-order method).\n",
    "You will discretize the first-order spatial derivative with a backward-difference quotient:\n",
    "\n",
    "$$\n",
    "\\begin{equation}\n",
    "    \\left. \\frac{\\partial F}{\\partial x} \\right|_i = \\frac{F_i - F_{i-1}}{\\Delta x} = \\frac{F(\\rho_i) - F(\\rho_{i-1})}{\\Delta x}\n",
    "\\end{equation}\n",
    "$$\n",
    "\n",
    "Examine a stretch of road using the following conditions:\n",
    "\n",
    "* $V_\\text{max} = 90 \\; \\text{km/h}$\n",
    "* $L = 25 \\; \\text{km}$\n",
    "* $\\rho_\\text{max} = 100 \\; \\text{cars/km}$\n",
    "* $nx = 101$ (number of points to discretize the road of length $L$)\n",
    "* $\\Delta t = 0.001 \\; \\text{hours}$"
   ]
  },
  {
   "cell_type": "markdown",
   "metadata": {
    "deletable": false,
    "editable": false,
    "nbgrader": {
     "cell_type": "markdown",
     "checksum": "f57a63b7ab9473ce53c7c2fc75f69155",
     "grade": false,
     "grade_id": "md-solution",
     "locked": true,
     "schema_version": 3,
     "solution": false
    }
   },
   "source": [
    "## Implement your solution (40 points)\n",
    "\n",
    "---\n",
    "\n",
    "Implement your solution in this section.\n",
    "You can use as many code cells as you want."
   ]
  },
  {
   "cell_type": "code",
   "execution_count": 71,
   "metadata": {
    "deletable": false,
    "nbgrader": {
     "cell_type": "code",
     "checksum": "0f3b7658fb1cb5b57f5e39ad9421acbb",
     "grade": true,
     "grade_id": "code-solution",
     "locked": false,
     "points": 40,
     "schema_version": 3,
     "solution": true
    }
   },
   "outputs": [],
   "source": [
    "# YOUR CODE HERE\n",
    "import numpy\n",
    "import sympy\n",
    "from matplotlib import pyplot\n",
    "%matplotlib inline"
   ]
  },
  {
   "cell_type": "code",
   "execution_count": 72,
   "metadata": {},
   "outputs": [],
   "source": [
    "# Set the font family and size to use for Matplotlib figures.\n",
    "pyplot.rcParams['font.family'] = 'serif'\n",
    "pyplot.rcParams['font.size'] = 16\n",
    "sympy.init_printing()"
   ]
  },
  {
   "cell_type": "code",
   "execution_count": 73,
   "metadata": {},
   "outputs": [],
   "source": [
    "# Set parameters.\n",
    "nx = 101\n",
    "L = 25.0\n",
    "dx = L / (nx - 1)\n",
    "dt = 0.001\n",
    "Vmax = 90.0\n",
    "𝜌max = 100"
   ]
  },
  {
   "cell_type": "code",
   "execution_count": 74,
   "metadata": {},
   "outputs": [],
   "source": [
    "# Get the grid point coordinates.\n",
    "x = numpy.linspace(0.0, L, num=nx)"
   ]
  },
  {
   "cell_type": "markdown",
   "metadata": {
    "deletable": false,
    "editable": false,
    "nbgrader": {
     "cell_type": "markdown",
     "checksum": "b117a05b392ef2c613fd62a1c9cc6e2d",
     "grade": false,
     "grade_id": "md-assessment",
     "locked": true,
     "schema_version": 3,
     "solution": false
    }
   },
   "source": [
    "## Assessment (60 points)\n",
    "\n",
    "---\n",
    "\n",
    "Answer questions in this section.\n",
    "\n",
    "Do not try to delete or modify empty code cells that are already present.\n",
    "For each question, provide your answer in the cell **just above** the empty cell.\n",
    "(This empty cell contains hidden tests to assert the correctness of your answer and cannot be deleted.)\n",
    "Pay attention to the name of the variables we ask you to create to store computed values; if the name of the variable is misspelled, the test will fail."
   ]
  },
  {
   "cell_type": "code",
   "execution_count": 75,
   "metadata": {
    "deletable": false,
    "editable": false,
    "nbgrader": {
     "cell_type": "code",
     "checksum": "13601bdbff3ea979df6a60ddbdbac03a",
     "grade": false,
     "grade_id": "cell-0ab5846797902f57",
     "locked": true,
     "schema_version": 3,
     "solution": false,
     "task": false
    }
   },
   "outputs": [],
   "source": [
    "#######################################\n",
    "# IMPORTANT\n",
    "#\n",
    "# Import mooc38 if you use Python 3.8\n",
    "# It will not work for other versions\n",
    "#\n",
    "#######################################\n",
    "\n",
    "# Import module to check your answers.\n",
    "import mooc38 as mooc"
   ]
  },
  {
   "cell_type": "markdown",
   "metadata": {
    "deletable": false,
    "editable": false,
    "nbgrader": {
     "cell_type": "markdown",
     "checksum": "38acc897c0d6a283bd95235512845326",
     "grade": false,
     "grade_id": "md-partA",
     "locked": true,
     "schema_version": 3,
     "solution": false
    }
   },
   "source": [
    "### Part A\n",
    "\n",
    "Use the following initial condition\n",
    "\n",
    "$$\n",
    "\\begin{equation}\n",
    "    \\rho_0 = \\rho \\left(x, t = 0 \\right) =\n",
    "    \\begin{cases}\n",
    "        50 \\quad \\text{if} \\; 2 \\leq x \\leq 4.2 \\\\\n",
    "        10 \\quad \\text{otherwise}\n",
    "    \\end{cases}\n",
    "    ,\\quad \\forall x \\in \\left[ 0, L \\right]\n",
    "\\end{equation}\n",
    "$$\n",
    "\n",
    "and the following boundary condition\n",
    "\n",
    "$$\n",
    "\\begin{equation}\n",
    "    \\rho \\left( x=0, t \\right) = \\rho \\left( x=L, t \\right) = 10, \\quad \\forall t\n",
    "\\end{equation}\n",
    "$$\n",
    "\n",
    "to answer questions Q1, Q2, Q3, and Q4."
   ]
  },
  {
   "cell_type": "code",
   "execution_count": 76,
   "metadata": {
    "deletable": false,
    "nbgrader": {
     "cell_type": "code",
     "checksum": "0229d9c478d6fad8cb3b94fc31160c15",
     "grade": true,
     "grade_id": "code-partA-params",
     "locked": false,
     "points": 0,
     "schema_version": 3,
     "solution": true
    }
   },
   "outputs": [],
   "source": [
    "# YOUR CODE HERE\n",
    "# Set the initial conditions.𝜌\n",
    "u0 = numpy.ones(nx)\n",
    "for i in range(len(u0)):\n",
    "    if u0[i] == 1:\n",
    "        u0[i] = 10    \n",
    "mask = numpy.where(numpy.logical_and(x >= 2.0, x <= 4.2))\n",
    "u0[mask] = 50.0"
   ]
  },
  {
   "cell_type": "code",
   "execution_count": 77,
   "metadata": {},
   "outputs": [
    {
     "data": {
      "image/png": "[encoded data removed]",
      "text/plain": [
       "<Figure size 288x288 with 1 Axes>"
      ]
     },
     "metadata": {
      "needs_background": "light"
     },
     "output_type": "display_data"
    }
   ],
   "source": [
    "# Plot the initial conditions.\n",
    "pyplot.figure(figsize=(4.0, 4.0))\n",
    "pyplot.title('Initial conditions')\n",
    "pyplot.xlabel('x')\n",
    "pyplot.ylabel('u')\n",
    "pyplot.grid()\n",
    "pyplot.plot(x, u0, color='C0', linestyle='--', linewidth=2)\n",
    "pyplot.xlim(0.0, L)\n",
    "pyplot.ylim(0.0, 55);"
   ]
  },
  {
   "cell_type": "code",
   "execution_count": 78,
   "metadata": {},
   "outputs": [],
   "source": [
    "# get the non-linear solution\n",
    "nt = int(1/15/dt)\n",
    "u = u0.copy()\n",
    "for n in range(1, nt):\n",
    "    un = u.copy()\n",
    "    for i in range(1, nx):\n",
    "        u[i] = un[i] - dt/dx * (un[i]*Vmax*(1-un[i]/𝜌max) - un[i-1]*Vmax*(1-un[i-1]/𝜌max))"
   ]
  },
  {
   "cell_type": "code",
   "execution_count": 79,
   "metadata": {},
   "outputs": [
    {
     "data": {
      "image/png": "[encoded data removed]",
      "text/plain": [
       "<Figure size 288x288 with 1 Axes>"
      ]
     },
     "metadata": {
      "needs_background": "light"
     },
     "output_type": "display_data"
    }
   ],
   "source": [
    "# Plot the solution after nt time steps\n",
    "    # along with the initial conditions.\n",
    "pyplot.figure(figsize=(4.0, 4.0))\n",
    "pyplot.xlabel('x')\n",
    "pyplot.ylabel('u')\n",
    "pyplot.grid()\n",
    "pyplot.plot(x, u0, label='Initial',\n",
    "                color='C0', linestyle='--', linewidth=2)\n",
    "pyplot.plot(x, u, label='nt = {}'.format(nt),\n",
    "                color='C1', linestyle='-', linewidth=2)\n",
    "pyplot.legend()\n",
    "pyplot.xlim(0.0, L)\n",
    "pyplot.ylim(0.0, 55);"
   ]
  },
  {
   "cell_type": "code",
   "execution_count": null,
   "metadata": {},
   "outputs": [],
   "source": []
  },
  {
   "cell_type": "markdown",
   "metadata": {
    "deletable": false,
    "editable": false,
    "nbgrader": {
     "cell_type": "markdown",
     "checksum": "ccdced7479557b4e8558381a8508ab1f",
     "grade": false,
     "grade_id": "md-question1",
     "locked": true,
     "schema_version": 3,
     "solution": false
    }
   },
   "source": [
    "* **Q1 (5 points):** What's the minimum initial velocity in meters per second?\n",
    "\n",
    "Store your result in the variable `v0_min`; you can check your answer by calling the function `mooc.check('hw2_answer1', v0_min)`."
   ]
  },
  {
   "cell_type": "code",
   "execution_count": 80,
   "metadata": {
    "deletable": false,
    "nbgrader": {
     "cell_type": "code",
     "checksum": "4dff6cef2e439ad4965a30c670634072",
     "grade": false,
     "grade_id": "code-answer1",
     "locked": false,
     "schema_version": 3,
     "solution": true
    }
   },
   "outputs": [
    {
     "name": "stdout",
     "output_type": "stream",
     "text": [
      "12.5\n",
      "[hw2_answer1] Good job!\n"
     ]
    }
   ],
   "source": [
    "# YOUR CODE HERE\n",
    "a = max(u0)\n",
    "v0_min = Vmax * (1 - a / 𝜌max) * 1000 / 3600\n",
    "print(v0_min)\n",
    "mooc.check('hw2_answer1', v0_min)"
   ]
  },
  {
   "cell_type": "code",
   "execution_count": null,
   "metadata": {
    "deletable": false,
    "editable": false,
    "nbgrader": {
     "cell_type": "code",
     "checksum": "e3fd88785cc5c0689f082f75f58d68c2",
     "grade": true,
     "grade_id": "code-check1",
     "locked": true,
     "points": 5,
     "schema_version": 3,
     "solution": false
    }
   },
   "outputs": [],
   "source": []
  },
  {
   "cell_type": "markdown",
   "metadata": {
    "deletable": false,
    "editable": false,
    "nbgrader": {
     "cell_type": "markdown",
     "checksum": "cb44dbacf622971834b7f9af0e58f933",
     "grade": false,
     "grade_id": "md-question2",
     "locked": true,
     "schema_version": 3,
     "solution": false
    }
   },
   "source": [
    "* **Q2 (10 points):** What's the average velocity, in meters per second, along the road after $4$ minutes?\n",
    "\n",
    "Store your result in the variable `v4_mean`; you can check your answer with the function `mooc.check('hw2_answer2', v4_mean)`."
   ]
  },
  {
   "cell_type": "code",
   "execution_count": 81,
   "metadata": {
    "deletable": false,
    "nbgrader": {
     "cell_type": "code",
     "checksum": "44cf1ffb59a861534e541909524b07b3",
     "grade": false,
     "grade_id": "code-answer2",
     "locked": false,
     "schema_version": 3,
     "solution": true
    }
   },
   "outputs": [
    {
     "name": "stdout",
     "output_type": "stream",
     "text": [
      "21.60891089108911\n",
      "[hw2_answer2] Good job!\n"
     ]
    }
   ],
   "source": [
    "# YOUR CODE HERE\n",
    "b = 0\n",
    "for i in u:\n",
    "    b = b + i   \n",
    "𝜌4 = b / len(u)\n",
    "v4_mean = Vmax*(1-𝜌4/𝜌max)*1000/3600\n",
    "print(v4_mean)\n",
    "mooc.check('hw2_answer2', v4_mean)"
   ]
  },
  {
   "cell_type": "code",
   "execution_count": null,
   "metadata": {
    "deletable": false,
    "editable": false,
    "nbgrader": {
     "cell_type": "code",
     "checksum": "1c86d4f1c553033adb9135d8720c45f3",
     "grade": true,
     "grade_id": "code-check2",
     "locked": true,
     "points": 10,
     "schema_version": 3,
     "solution": false
    }
   },
   "outputs": [],
   "source": []
  },
  {
   "cell_type": "markdown",
   "metadata": {
    "deletable": false,
    "editable": false,
    "nbgrader": {
     "cell_type": "markdown",
     "checksum": "8ed4bfb704b24ef5d507f2000b7328f9",
     "grade": false,
     "grade_id": "md-question3",
     "locked": true,
     "schema_version": 3,
     "solution": false
    }
   },
   "source": [
    "* **Q3 (10 points):** What's the minimum velocity, in meters per second, after $8$ minutes?\n",
    "\n",
    "Store your result in the variable `v8_min`; you can check your answer with the function `mooc.check('hw2_answer3', v8_min)`."
   ]
  },
  {
   "cell_type": "code",
   "execution_count": 82,
   "metadata": {
    "deletable": false,
    "nbgrader": {
     "cell_type": "code",
     "checksum": "0736834133e3eb88d6c0b674092b37e2",
     "grade": false,
     "grade_id": "code-answer3",
     "locked": false,
     "schema_version": 3,
     "solution": true
    }
   },
   "outputs": [
    {
     "name": "stdout",
     "output_type": "stream",
     "text": [
      "31.807381516040245\n",
      "17.04815462098994\n",
      "[hw2_answer3] Try again!\n"
     ]
    }
   ],
   "source": [
    "# YOUR CODE HERE\n",
    "nx = 101\n",
    "L = 25.0\n",
    "dx = L / (nx - 1)\n",
    "dt = 0.001\n",
    "Vmax = 90.0\n",
    "𝜌max = 100\n",
    "nt = int(8/60/dt)\n",
    "\n",
    "x = numpy.linspace(0.0, L, num=nx)\n",
    "\n",
    "u0 = numpy.ones(nx)\n",
    "for i in range(len(u0)):\n",
    "    if u0[i] == 1:\n",
    "        u0[i] = 10    \n",
    "mask = numpy.where(numpy.logical_and(x >= 2.0, x <= 4.2))\n",
    "u0[mask] = 50.0\n",
    "u0[0] = 10\n",
    "u0[-1] = 10\n",
    "\n",
    "u = u0.copy()\n",
    "for n in range(1, nt):\n",
    "    un = u.copy()\n",
    "    for i in range(1, nx):\n",
    "        u[i] = un[i] - dt/dx * (un[i]*Vmax*(1-un[i]/𝜌max) - un[i-1]*Vmax*(1-un[i-1]/𝜌max))\n",
    "\n",
    "\n",
    "c = max(u)\n",
    "print(c)\n",
    "v8_min = Vmax * (1 - c / 𝜌max) * 1000 / 3600\n",
    "print(v8_min)\n",
    "mooc.check('hw2_answer3', v8_min)"
   ]
  },
  {
   "cell_type": "code",
   "execution_count": null,
   "metadata": {
    "deletable": false,
    "editable": false,
    "nbgrader": {
     "cell_type": "code",
     "checksum": "4d968db8c22db063ee1a96de39381f80",
     "grade": true,
     "grade_id": "code-check3",
     "locked": true,
     "points": 10,
     "schema_version": 3,
     "solution": false
    }
   },
   "outputs": [],
   "source": []
  },
  {
   "cell_type": "markdown",
   "metadata": {
    "deletable": false,
    "editable": false,
    "nbgrader": {
     "cell_type": "markdown",
     "checksum": "ffd305a36bf6a8a23f053a60c94ba91a",
     "grade": false,
     "grade_id": "md-question4",
     "locked": true,
     "schema_version": 3,
     "solution": false
    }
   },
   "source": [
    "* **Q4 (5 points):** What's the maximum car density, in cars per kilometer, along the road after 8 minutes?\n",
    "\n",
    "Store you result in the variable `rho8_max`; you can check your answer with `mooc.check('hw2_answer4', rho8_max)`."
   ]
  },
  {
   "cell_type": "code",
   "execution_count": 13,
   "metadata": {
    "deletable": false,
    "nbgrader": {
     "cell_type": "code",
     "checksum": "128d72e5de3f80e615121e757f41d90f",
     "grade": false,
     "grade_id": "code-answer4",
     "locked": false,
     "schema_version": 3,
     "solution": true
    }
   },
   "outputs": [],
   "source": [
    "# YOUR CODE HERE\n"
   ]
  },
  {
   "cell_type": "code",
   "execution_count": null,
   "metadata": {
    "deletable": false,
    "editable": false,
    "nbgrader": {
     "cell_type": "code",
     "checksum": "e9f21da51ff9b31280073bbcdb98232f",
     "grade": true,
     "grade_id": "code-check4",
     "locked": true,
     "points": 5,
     "schema_version": 3,
     "solution": false
    }
   },
   "outputs": [],
   "source": []
  },
  {
   "cell_type": "markdown",
   "metadata": {
    "deletable": false,
    "editable": false,
    "nbgrader": {
     "cell_type": "markdown",
     "checksum": "66a359a5e7b0709dcb9a23bbe3421d9d",
     "grade": false,
     "grade_id": "md-partB",
     "locked": true,
     "schema_version": 3,
     "solution": false
    }
   },
   "source": [
    "### Part B\n",
    "\n",
    "Now, set $V_\\text{max} = 130 \\; \\text{km/hr}$ and redo the simulations using the following initial condition for the traffic density\n",
    "\n",
    "$$\n",
    "\\begin{equation}\n",
    "    \\rho_0 = \\rho \\left(x, t = 0 \\right) =\n",
    "    \\begin{cases}\n",
    "        50 \\quad \\text{if} \\; 2 \\leq x \\leq 4.2 \\\\\n",
    "        20 \\quad \\text{otherwise}\n",
    "    \\end{cases}\n",
    "    ,\\quad \\forall x \\in \\left[ 0, L \\right]\n",
    "\\end{equation}\n",
    "$$\n",
    "\n",
    "and the following boundary condition\n",
    "\n",
    "$$\n",
    "\\begin{equation}\n",
    "    \\rho \\left( x=0, t \\right) = \\rho \\left( x=L, t \\right) = 20, \\quad \\forall t\n",
    "\\end{equation}\n",
    "$$\n",
    "\n",
    "Redo the simulations to answer questions Q5, Q6, Q7, and Q8."
   ]
  },
  {
   "cell_type": "code",
   "execution_count": 14,
   "metadata": {
    "deletable": false,
    "nbgrader": {
     "cell_type": "code",
     "checksum": "4eba1b5b3888ff21df45b2ca50de0bd8",
     "grade": true,
     "grade_id": "code-partB-params",
     "locked": false,
     "points": 0,
     "schema_version": 3,
     "solution": true
    }
   },
   "outputs": [
    {
     "ename": "NotImplementedError",
     "evalue": "",
     "output_type": "error",
     "traceback": [
      "\u001b[1;31m---------------------------------------------------------------------------\u001b[0m",
      "\u001b[1;31mNotImplementedError\u001b[0m                       Traceback (most recent call last)",
      "\u001b[1;32m<ipython-input-14-15b94d1fa268>\u001b[0m in \u001b[0;36m<module>\u001b[1;34m\u001b[0m\n\u001b[0;32m      1\u001b[0m \u001b[1;31m# YOUR CODE HERE\u001b[0m\u001b[1;33m\u001b[0m\u001b[1;33m\u001b[0m\u001b[1;33m\u001b[0m\u001b[0m\n\u001b[1;32m----> 2\u001b[1;33m \u001b[1;32mraise\u001b[0m \u001b[0mNotImplementedError\u001b[0m\u001b[1;33m(\u001b[0m\u001b[1;33m)\u001b[0m\u001b[1;33m\u001b[0m\u001b[1;33m\u001b[0m\u001b[0m\n\u001b[0m",
      "\u001b[1;31mNotImplementedError\u001b[0m: "
     ]
    }
   ],
   "source": [
    "# YOUR CODE HERE\n",
    "nx = 101\n",
    "L = 25.0\n",
    "dx = L / (nx - 1)\n",
    "dt = 0.001\n",
    "Vmax = 90.0\n",
    "𝜌max = 100\n",
    "\n",
    "x = numpy.linspace(0.0, L, num=nx)"
   ]
  },
  {
   "cell_type": "markdown",
   "metadata": {
    "deletable": false,
    "editable": false,
    "nbgrader": {
     "cell_type": "markdown",
     "checksum": "551c09ee08ec06d65c0b3e9853f4626f",
     "grade": false,
     "grade_id": "md-question5",
     "locked": true,
     "schema_version": 3,
     "solution": false
    }
   },
   "source": [
    "* **Q5 (5 points):** What's the minimum initial velocity in meters per second?\n",
    "\n",
    "Store your result in the variable `v0_min2`; you can check your answer by calling the function `mooc.check('hw2_answer5', v0_min2)`."
   ]
  },
  {
   "cell_type": "code",
   "execution_count": null,
   "metadata": {
    "deletable": false,
    "nbgrader": {
     "cell_type": "code",
     "checksum": "5b478ed078c39a44f1f098306ee3b4e4",
     "grade": false,
     "grade_id": "code-answer5",
     "locked": false,
     "schema_version": 3,
     "solution": true
    }
   },
   "outputs": [],
   "source": [
    "# YOUR CODE HERE\n",
    "raise NotImplementedError()"
   ]
  },
  {
   "cell_type": "code",
   "execution_count": null,
   "metadata": {
    "deletable": false,
    "editable": false,
    "nbgrader": {
     "cell_type": "code",
     "checksum": "404838a195c1b6df5ec3017bb8bff668",
     "grade": true,
     "grade_id": "code-check5",
     "locked": true,
     "points": 5,
     "schema_version": 3,
     "solution": false
    }
   },
   "outputs": [],
   "source": []
  },
  {
   "cell_type": "markdown",
   "metadata": {
    "deletable": false,
    "editable": false,
    "nbgrader": {
     "cell_type": "markdown",
     "checksum": "7d8bf669f0026bfafc03459616d066aa",
     "grade": false,
     "grade_id": "md-question6",
     "locked": true,
     "schema_version": 3,
     "solution": false
    }
   },
   "source": [
    "* **Q6 (10 points):** What's the average velocity, in meters per second, along the road after $4$ minutes?\n",
    "\n",
    "Store your result in the variable `v4_mean2`; you can check your answer with the function `mooc.check('hw2_answer6', v4_mean2)`."
   ]
  },
  {
   "cell_type": "code",
   "execution_count": null,
   "metadata": {
    "deletable": false,
    "nbgrader": {
     "cell_type": "code",
     "checksum": "823d72b98a21ac5071ad9215cb3286a7",
     "grade": false,
     "grade_id": "code-answer6",
     "locked": false,
     "schema_version": 3,
     "solution": true
    }
   },
   "outputs": [],
   "source": [
    "# YOUR CODE HERE\n",
    "raise NotImplementedError()"
   ]
  },
  {
   "cell_type": "code",
   "execution_count": null,
   "metadata": {
    "deletable": false,
    "editable": false,
    "nbgrader": {
     "cell_type": "code",
     "checksum": "7afea1f6d8431644cd85f0db0d9748f2",
     "grade": true,
     "grade_id": "code-check6",
     "locked": true,
     "points": 10,
     "schema_version": 3,
     "solution": false
    }
   },
   "outputs": [],
   "source": []
  },
  {
   "cell_type": "markdown",
   "metadata": {
    "deletable": false,
    "editable": false,
    "nbgrader": {
     "cell_type": "markdown",
     "checksum": "c8bf7aaf72570958666d442ec544cee0",
     "grade": false,
     "grade_id": "md-question7",
     "locked": true,
     "schema_version": 3,
     "solution": false
    }
   },
   "source": [
    "* **Q7 (10 points):** What's the minimum velocity, in meters per second, after $8$ minutes?\n",
    "\n",
    "Store your result in the variable `v8_min2`; you can check your answer with the function `mooc.check('hw2_answer7', v8_min2)`."
   ]
  },
  {
   "cell_type": "code",
   "execution_count": null,
   "metadata": {
    "deletable": false,
    "nbgrader": {
     "cell_type": "code",
     "checksum": "ae6fd2b4349c8f65d96930ebf34f7708",
     "grade": false,
     "grade_id": "code-answer7",
     "locked": false,
     "schema_version": 3,
     "solution": true
    }
   },
   "outputs": [],
   "source": [
    "# YOUR CODE HERE\n",
    "raise NotImplementedError()"
   ]
  },
  {
   "cell_type": "code",
   "execution_count": null,
   "metadata": {
    "deletable": false,
    "editable": false,
    "nbgrader": {
     "cell_type": "code",
     "checksum": "7028c16ea5540aad2d219b553df71065",
     "grade": true,
     "grade_id": "code-check7",
     "locked": true,
     "points": 10,
     "schema_version": 3,
     "solution": false
    }
   },
   "outputs": [],
   "source": []
  },
  {
   "cell_type": "markdown",
   "metadata": {
    "deletable": false,
    "editable": false,
    "nbgrader": {
     "cell_type": "markdown",
     "checksum": "63bb51b488111a1d0704e61545ba06ac",
     "grade": false,
     "grade_id": "md-question8",
     "locked": true,
     "schema_version": 3,
     "solution": false
    }
   },
   "source": [
    "* **Q8 (5 points):** What's the average car density, in cars per kilometer, along the road after 8 minutes?\n",
    "\n",
    "Store your result in the variable `rho8_mean2`; you can check your answer with the function `mooc.check('hw2_answer8', rho8_mean2)`."
   ]
  },
  {
   "cell_type": "code",
   "execution_count": null,
   "metadata": {
    "deletable": false,
    "nbgrader": {
     "cell_type": "code",
     "checksum": "10829256c390c256ef9c6cfc19f3719d",
     "grade": false,
     "grade_id": "code-answer8",
     "locked": false,
     "schema_version": 3,
     "solution": true
    }
   },
   "outputs": [],
   "source": [
    "# YOUR CODE HERE\n",
    "raise NotImplementedError()"
   ]
  },
  {
   "cell_type": "code",
   "execution_count": null,
   "metadata": {
    "deletable": false,
    "editable": false,
    "nbgrader": {
     "cell_type": "code",
     "checksum": "7355a3be20639243f8eaf8c92fbd7cbb",
     "grade": true,
     "grade_id": "code-check8",
     "locked": true,
     "points": 5,
     "schema_version": 3,
     "solution": false
    }
   },
   "outputs": [],
   "source": []
  },
  {
   "cell_type": "markdown",
   "metadata": {
    "deletable": false,
    "editable": false,
    "nbgrader": {
     "cell_type": "markdown",
     "checksum": "41044535b2f68e4bf908229dad94c962",
     "grade": false,
     "grade_id": "md-extra",
     "locked": true,
     "schema_version": 3,
     "solution": false
    }
   },
   "source": [
    "## Conservation and non-conservation forms\n",
    "\n",
    "---\n",
    "\n",
    "The traffic flow is modeled by the following equation\n",
    "\n",
    "$$\n",
    "\\begin{equation}\n",
    "    \\frac{\\partial \\rho}{\\partial t} + \\frac{\\partial F}{\\partial x} = 0\n",
    "\\end{equation}\n",
    "$$\n",
    "\n",
    "where $\\rho$ is the density and $F$ is the flux of density given by\n",
    "\n",
    "$$\n",
    "\\begin{equation*}\n",
    "    F = F \\left( \\rho \\right) = \\rho V \\left( \\rho \\right) = \\rho V_\\text{max} \\left( 1 - \\frac{\\rho}{\\rho_\\text{max}} \\right)\n",
    "\\end{equation*}\n",
    "$$\n",
    "\n",
    "The equation above is called the **conservation form** of the traffic-flow equation.\n",
    "\n",
    "Alternatively, we could also write another equation by deriving the flux with respect to $x$:\n",
    "\n",
    "$$\n",
    "\\begin{eqnarray*}\n",
    "    \\frac{\\partial \\rho}{\\partial t} &=& -\\frac{\\partial F}{\\partial x} \\\\\n",
    "    &=& -\\frac{\\partial F}{\\partial \\rho} \\frac{\\partial \\rho}{\\partial x} \\\\\n",
    "    &=& - V_\\text{max} \\left( 1 - 2 \\frac{\\rho}{\\rho_\\text{max}} \\right) \\frac{\\partial \\rho}{\\partial x}\n",
    "\\end{eqnarray*}\n",
    "$$\n",
    "\n",
    "i.e.,\n",
    "\n",
    "$$\n",
    "\\begin{equation}\n",
    "    \\frac{\\partial \\rho}{\\partial t} + V_\\text{max} \\left( 1 - 2 \\frac{\\rho}{\\rho_\\text{max}} \\right) \\frac{\\partial \\rho}{\\partial x} = 0\n",
    "\\end{equation}\n",
    "$$\n",
    "\n",
    "The equation above is call the **non-conservation form** of the traffic-flow equation.\n",
    "\n",
    "Although the two equations are mathematically identical, their respective discrete version is different and will not lead to the same numerical solution.\n",
    "\n",
    "Suppose, we want to advance the solution in time using a first-order Euler's method while computing the space derivative using a backward-difference technique.\n",
    "\n",
    "The discrete version of the equation in conservation form is\n",
    "\n",
    "$$\n",
    "\\begin{equation}\n",
    "    \\frac{\\rho_i^{n + 1} - \\rho_i^n}{\\Delta t} + \\frac{F_i^n - F_{i-1}^n}{\\Delta x} = 0\n",
    "\\end{equation}\n",
    "$$\n",
    "\n",
    "which leads to\n",
    "\n",
    "$$\n",
    "\\begin{equation}\n",
    "    \\frac{\\rho_i^{n + 1} - \\rho_i^n}{\\Delta t} + \\frac{\\rho_i^n V_\\text{max} \\left( 1 - \\frac{\\rho_i^n}{\\rho_\\text{max}} \\right) - \\rho_{i - 1}^n V_\\text{max} \\left( 1 - \\frac{\\rho_{i - 1}^n}{\\rho_\\text{max}} \\right)}{\\Delta x} = 0\n",
    "\\end{equation}\n",
    "$$\n",
    "\n",
    "The discrete version of the equation in non-conservation form is\n",
    "\n",
    "$$\n",
    "\\begin{equation}\n",
    "    \\frac{\\rho_i^{n + 1} - \\rho_i^n}{\\Delta t} + V_\\text{max} \\left( 1 - 2 \\frac{\\rho_i^n}{\\rho_\\text{max}} \\right) \\frac{\\rho_i^n - \\rho_{i - 1}^n}{\\Delta x} = 0\n",
    "\\end{equation}\n",
    "$$\n",
    "\n",
    "You can see that the two discrete equations are different, and thus will not lead to the same numerical solution.\n",
    "\n",
    "For the second assignment of this class, you should discretize the traffic-flow equation in its conservation form."
   ]
  }
 ],
 "metadata": {
  "kernelspec": {
   "display_name": "Python 3",
   "language": "python",
   "name": "python3"
  },
  "language_info": {
   "codemirror_mode": {
    "name": "ipython",
    "version": 3
   },
   "file_extension": ".py",
   "mimetype": "text/x-python",
   "name": "python",
   "nbconvert_exporter": "python",
   "pygments_lexer": "ipython3",
   "version": "3.8.8"
  }
 },
 "nbformat": 4,
 "nbformat_minor": 2
}
