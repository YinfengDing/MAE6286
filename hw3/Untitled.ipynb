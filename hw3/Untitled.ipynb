{
 "cells": [
  {
   "cell_type": "code",
   "execution_count": 1,
   "id": "cd0942cc",
   "metadata": {},
   "outputs": [],
   "source": [
    "import numpy\n",
    "import sympy\n",
    "from matplotlib import pyplot\n",
    "%matplotlib inline\n",
    "pyplot.rcParams['font.family'] = 'serif'\n",
    "pyplot.rcParams['font.size'] = 16\n",
    "sympy.init_printing()"
   ]
  },
  {
   "cell_type": "code",
   "execution_count": 2,
   "id": "dc4aa8c5",
   "metadata": {},
   "outputs": [],
   "source": [
    "nx = 81\n",
    "dx = 0.25\n",
    "dt = 0.0002\n",
    "gamma = 1.4\n",
    "t = 0.01\n",
    "nt = int(t/dt)+1\n",
    "x = numpy.linspace(-10,10,num = nx )\n",
    "\n",
    "rho0 = numpy.ones(nx)\n",
    "mask = numpy.where(x >= 0)\n",
    "rho0[mask] = 0.125\n",
    "p0 = 100000*numpy.ones(nx)\n",
    "p0[mask] = 10000\n",
    "v0 = numpy.zeros(nx)\n",
    "e0 = p0 / ((gamma-1) * rho0)\n",
    "eT0 = e0 + 0.5 * v0**2\n",
    "\n",
    "\n",
    "e0 = p0 / ((gamma - 1) * rho0)\n",
    "eT0 = e0 + 0.5 * v0**2\n",
    "\n",
    "u0 = numpy.array([rho0,\n",
    "                  rho0 * v0,\n",
    "                  rho0 * eT0])\n",
    "f0 = numpy.array([u0[1],\n",
    "                  u0[1]**2 / u0[0] + (gamma - 1) * (u0[2] - 0.5 * u0[1]**2 / u0[0]),\n",
    "                  (u0[2] + (gamma -1) * (u0[2] - 0.5 * u0[1]**2 / u0[0])) * u0[1] / u0[0]])"
   ]
  },
  {
   "cell_type": "code",
   "execution_count": 3,
   "id": "d5c24774",
   "metadata": {},
   "outputs": [
    {
     "name": "stdout",
     "output_type": "stream",
     "text": [
      "[1.         1.         1.         1.         1.         1.\n",
      " 1.         1.         1.         1.         1.         1.\n",
      " 0.99999997 0.99999986 0.99999932 0.99999694 0.99998741 0.9999526\n",
      " 0.99983736 0.99949289 0.99856792 0.99635019 0.99162823 0.98273521\n",
      " 0.96792076 0.94600154 0.9168774  0.88164814 0.84208594 0.80012107\n",
      " 0.75730048 0.71481491 0.67277761 0.63389053 0.59052577 0.56181242\n",
      " 0.51598546 0.48995123 0.44887417 0.44760904 0.29696558 0.36126796\n",
      " 0.43359314 0.42699377 0.41099442 0.41892596 0.44399618 0.46434585\n",
      " 0.45696901 0.42194861 0.3746914  0.3317037  0.30204312 0.28704464\n",
      " 0.280923   0.27230546 0.25570383 0.24516403 0.26061836 0.29707243\n",
      " 0.30148605 0.2238121  0.14723687 0.12725797 0.1251773  0.12501369\n",
      " 0.12500107 0.12500009 0.12500001 0.125      0.125      0.125\n",
      " 0.125      0.125      0.125      0.125      0.125      0.125\n",
      " 0.125      0.125      0.125     ]\n"
     ]
    }
   ],
   "source": [
    "fR = f0.copy()\n",
    "u_predictor = u0.copy()\n",
    "uR = u0.copy()\n",
    "\n",
    "for i in range(1,nt):\n",
    "    u_predictor = 0.5 * (uR[:,1:] + uR[:,:-1]) - dt / (2 * dx) * (fR[:,1:] - fR[:,:-1])\n",
    "    f_predictor = numpy.array([u_predictor[1],\n",
    "                               u_predictor[1]**2 / u_predictor[0] + (gamma - 1) * (u_predictor[2] - 0.5 * u_predictor[1]**2 / u_predictor[0]),\n",
    "                               (u_predictor[2] + (gamma -1) * (u_predictor[2] - 0.5 * u_predictor[1]**2 / u_predictor[0])) * u_predictor[1] / u_predictor[0]])\n",
    "    uR[:,1:-1] = uR[:,1:-1] - dt / dx * (f_predictor[:,1:] - f_predictor[:,:-1]) \n",
    "    fR = numpy.array([uR[1],\n",
    "                  uR[1]**2 / uR[0] + (gamma - 1) * (uR[2] - 0.5 * uR[1]**2 / uR[0]),\n",
    "                 (uR[2] + (gamma -1) * (uR[2] - 0.5 * uR[1]**2 / uR[0])) * uR[1] / uR[0]])\n",
    "rho_Richtmyer = uR[0]\n",
    "v_Richtmyer = uR[1] / uR[0]\n",
    "p_Richtmyer = (gamma -1) * (uR[2] - 0.5 * uR[1]**2 / uR[0])\n",
    "print(rho_Richtmyer)"
   ]
  },
  {
   "cell_type": "markdown",
   "id": "c3006060",
   "metadata": {},
   "source": [
    "It was the scheme to achieve second-order accuracy in both space and time. Numerical dispersion occurs when a higher order discretisation scheme is used to improve accuracy of the result. This is due to the truncation error of the discretisation, a second order upwind method, the leading truncation error is odd, and odd order derivatives contribute to numerical dispersion."
   ]
  },
  {
   "cell_type": "code",
   "execution_count": null,
   "id": "d53afb6b",
   "metadata": {},
   "outputs": [],
   "source": []
  }
 ],
 "metadata": {
  "kernelspec": {
   "display_name": "Python 3",
   "language": "python",
   "name": "python3"
  },
  "language_info": {
   "codemirror_mode": {
    "name": "ipython",
    "version": 3
   },
   "file_extension": ".py",
   "mimetype": "text/x-python",
   "name": "python",
   "nbconvert_exporter": "python",
   "pygments_lexer": "ipython3",
   "version": "3.8.8"
  }
 },
 "nbformat": 4,
 "nbformat_minor": 5
}
