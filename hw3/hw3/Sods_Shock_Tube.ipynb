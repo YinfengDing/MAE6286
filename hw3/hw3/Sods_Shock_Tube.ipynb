{
 "cells": [
  {
   "cell_type": "markdown",
   "metadata": {},
   "source": [
    "Before you turn in your homework, make sure everything runs as expected.\n",
    "\n",
    "Make sure you execute every single code cell, in order, filling with your solutions in any place that says `# YOUR CODE HERE`, and always DELETE the line that says:\n",
    "\n",
    "```python\n",
    "raise NotImplementedError()\n",
    "```\n",
    "\n",
    "The purpose of this line is to tell you if you forgot to answer a question (it will throw an error if the line is there)\n",
    "\n",
    "**IMPORTANT:**\n",
    "\n",
    "* **DO NOT DELETE ANY CELL** and do not change the title of the Notebook.\n",
    "\n",
    "* Use the same variable names as the ones written in the questions; otherwise, the tests will fail.\n",
    "\n",
    "* Before you turn in your homework, make sure everything runs as expected: restart the kernel (in the menubar, select Kernel $\\rightarrow$ Restart) and then run all cells (in the menubar, select Cell $\\rightarrow$ Run All).\n",
    "\n",
    "Fill your name below:"
   ]
  },
  {
   "cell_type": "code",
   "execution_count": 1,
   "metadata": {},
   "outputs": [],
   "source": [
    "name = \"Yinfeng Ding\""
   ]
  },
  {
   "cell_type": "markdown",
   "metadata": {
    "deletable": false,
    "editable": false,
    "nbgrader": {
     "cell_type": "markdown",
     "checksum": "7786a34a2c95cd9f71174aed7c2d1e5d",
     "grade": false,
     "grade_id": "md-intro",
     "locked": true,
     "schema_version": 3,
     "solution": false
    }
   },
   "source": [
    "# Sod's test problems\n",
    "\n",
    "Sod's test problems are standard benchmarks used to assess the accuracy of numerical solvers. The tests use a classic example of one-dimensional compressible flow: the shock-tube problem. Sod (1978) chose initial conditions and numerical discretization parameters for the shock-tube problem and used these to test several schemes, including Lax-Wendroff and MacCormack's. Since then, many others have followed Sod's example and used the same tests on new numerical methods.\n",
    "\n",
    "The shock-tube problem is so useful for testing numerical methods because it is one of the few problems that allows an exact solution of the Euler equations for compressible flow.\n",
    "\n",
    "This notebook complements the previous lessons of the course module [_\"Riding the wave: convection problems\"_](https://github.com/numerical-mooc/numerical-mooc/tree/master/lessons/03_wave) with Sod's test problems as an independent coding exercise. We'll lay out the problem for you, but leave important bits of code for you to write on your own. Good luck!\n",
    "\n",
    "## What's a shock tube?\n",
    "\n",
    "A shock tube is an idealized device that generates a one-dimensional shock wave in a compressible gas. The setting allows an analytical solution of the Euler equations, which is very useful for comparing with the numerical results to assess their accuracy. \n",
    "\n",
    "Picture a tube with two regions containing gas at different pressures, separated by an infinitely-thin, rigid diaphragm. The gas is initially at rest, and the left region is at a higher pressure than the region to the right of the diaphragm. At time $t = 0.0 s$, the diaphragm is ruptured instantaneously.  \n",
    "\n",
    "What happens?  \n",
    "\n",
    "You get a shock wave.  The gas at high pressure, no longer constrained by the diaphragm, rushes into the lower-pressure area and a one-dimensional unsteady flow is established, consisting of:\n",
    "\n",
    "* a shock wave traveling to the right\n",
    "* an expansion wave traveling to the left\n",
    "* a moving contact discontinuity\n",
    "\n",
    "The shock-tube problem is an example of a *Riemann problem* and it has an analytical solution, as we said. The situation is illustrated in Figure 1.\n",
    "\n",
    "![shocktube](./figures/shocktube.png)\n",
    "<center> Figure 1: The shock-tube problem. </center>\n",
    "\n",
    "## The Euler equations\n",
    "\n",
    "The Euler equations govern the motion of an inviscid fluid (no viscosity). They consist of the conservation laws of mass and momentum, and often we also need to work with the energy equation. \n",
    "\n",
    "Let's consider a 1D flow with velocity $u$ in the $x$-direction. The Euler equations for a fluid with density $\\rho$ and pressure $p$ are:\n",
    "\n",
    "$$\n",
    "\\begin{cases}\n",
    "    &\\frac{\\partial \\rho}{\\partial t} + \\frac{\\partial}{\\partial x}(\\rho u) = 0 \\\\\n",
    "    &\\frac{\\partial}{\\partial t}(\\rho u) + \\frac{\\partial}{\\partial x} (\\rho u^2 + p)=0\n",
    "\\end{cases}\n",
    "$$\n",
    "\n",
    "... plus the energy equation, which we can write in this form:\n",
    "\n",
    "$$\n",
    "\\begin{equation}\n",
    "\\frac{\\partial}{\\partial t}(\\rho e_T) + \\frac{\\partial}{\\partial x} (\\rho u e_T +p u)=0\n",
    "\\end{equation}\n",
    "$$\n",
    "\n",
    "where $e_T=e+u^2/2$ is the total energy per unit mass, equal to the internal energy plus the kinetic energy (per unit mass).\n",
    "\n",
    "Written in vector form, you can see that the Euler equations bear a strong resemblance to the traffic-density equation that has been the focus of this course module so far. Here is the vector representation of the Euler equation:\n",
    "\n",
    "$$\n",
    "\\begin{equation}\n",
    "\\frac{\\partial }{\\partial t} \\underline{\\mathbf{u}} + \\frac{\\partial }{\\partial x} \\underline{\\mathbf{f}} = 0\n",
    "\\end{equation}\n",
    "$$\n",
    "\n",
    "The big difference with our previous work is that the variables $\\underline{\\mathbf{u}}$ and $\\underline{\\mathbf{f}}$ are *vectors*.  If you review the [Phugoid Full Model](https://nbviewer.jupyter.org/github/numerical-mooc/numerical-mooc/blob/master/lessons/01_phugoid/01_03_PhugoidFullModel.ipynb) lesson, you will recall that we can solve for several values at once using the vector form of an equation.  In the Phugoid Module, it was an ODE—now we apply the same procedure to a PDE.  \n",
    "\n",
    "Let's take a look at what $\\underline{\\mathbf{u}}$ and $\\underline{\\mathbf{f}}$ consist of.\n",
    "\n",
    "## The conservative form\n",
    "\n",
    "Many works in the early days of computational fluid dynamics in the 1960s showed that using the conservation form of the Euler equations is more accurate for situations with shock waves.  And as you already saw, the shock-tube solutions do contain shocks.\n",
    "\n",
    "The conserved variables $\\underline{\\mathbf{u}}$ for Euler's equations are\n",
    "\n",
    "$$\n",
    "\\begin{equation}\n",
    "\\underline{\\mathbf{u}} = \\left[\n",
    "\\begin{array}{c}\n",
    "\\rho \\\\\n",
    "\\rho u \\\\\n",
    "\\rho e_T \\\\ \n",
    "\\end{array}\n",
    "\\right]\n",
    "\\end{equation}\n",
    "$$\n",
    "\n",
    "where $\\rho$ is the density of the fluid, $u$ is the velocity of the fluid and $e_T = e + \\frac{u^2}{2}$ is the specific total energy; $\\underline{\\mathbf{f}}$ is the flux vector:\n",
    "\n",
    "$$\n",
    "\\begin{equation}\n",
    "\\underline{\\mathbf{f}} = \\left[\n",
    "\\begin{array}{c}\n",
    "\\rho u \\\\\n",
    "\\rho u^2 + p \\\\\n",
    "(\\rho e_T + p) u \\\\\n",
    "\\end{array}\n",
    "\\right]\n",
    "\\end{equation}\n",
    "$$\n",
    "\n",
    "where $p$ is the pressure of the fluid.\n",
    "\n",
    "If we put together the conserved variables and the flux vector into our PDE, we get the following set of equations:\n",
    "\n",
    "$$\n",
    "\\begin{equation}\n",
    "    \\frac{\\partial}{\\partial t}\n",
    "    \\left[\n",
    "        \\begin{array}{c}\n",
    "            \\rho \\\\\n",
    "            \\rho u \\\\\n",
    "            \\rho e_T \\\\\n",
    "        \\end{array}\n",
    "    \\right] +\n",
    "    \\frac{\\partial}{\\partial x}\n",
    "    \\left[\n",
    "        \\begin{array}{c}\n",
    "            \\rho u \\\\\n",
    "            \\rho u^2 + p \\\\\n",
    "            (\\rho e_T + p) u \\\\\n",
    "        \\end{array}\n",
    "    \\right] =\n",
    "    0\n",
    "\\end{equation}\n",
    "$$\n",
    "\n",
    "There's one major problem there.  We have 3 equations and 4 unknowns.  But there is a solution!  We can use an equation of state to calculate the pressure—in this case, we'll use the ideal gas law.\n",
    "\n",
    "## Calculating the pressure\n",
    "\n",
    "For an ideal gas, the equation of state is\n",
    "\n",
    "$$\n",
    "e = e(\\rho, p) = \\frac{p}{(\\gamma -1) \\rho}\n",
    "$$\n",
    "\n",
    "where $\\gamma = 1.4$ is a reasonable value to model air, \n",
    "\n",
    "$$\n",
    "\\therefore p = (\\gamma -1)\\rho e\n",
    "$$ \n",
    "\n",
    "Recall from above that\n",
    "\n",
    "$$\n",
    "e_T = e+\\frac{1}{2} u^2\n",
    "$$\n",
    "\n",
    "$$\n",
    "\\therefore e = e_T - \\frac{1}{2}u^2\n",
    "$$\n",
    "\n",
    "Putting it all together, we arrive at an equation for the pressure\n",
    "\n",
    "$$\n",
    "p = (\\gamma -1)\\left(\\rho e_T - \\frac{\\rho u^2}{2}\\right)\n",
    "$$\n",
    "\n",
    "## Flux in terms of $\\underline{\\mathbf{u}}$\n",
    "\n",
    "With the traffic model, the flux was a function of traffic density.  For the Euler equations, the three equations we have are coupled and the flux *vector* is a function of $\\underline{\\mathbf{u}}$, the vector of conserved variables:\n",
    "\n",
    "$$\n",
    "\\underline{\\mathbf{f}} = f(\\underline{\\mathbf{u}})\n",
    "$$\n",
    "\n",
    "In order to get everything squared away, we need to represent $\\underline{\\mathbf{f}}$ in terms of $\\underline{\\mathbf{u}}$.\n",
    "We can introduce a little shorthand for the $\\underline{\\mathbf{u}}$ and $\\underline{\\mathbf{f}}$ vectors and define:\n",
    "\n",
    "$$\n",
    "\\underline{\\mathbf{u}} =\n",
    "\\left[\n",
    "    \\begin{array}{c}\n",
    "        u_1 \\\\\n",
    "        u_2 \\\\\n",
    "        u_3 \\\\\n",
    "    \\end{array}\n",
    "\\right] =\n",
    "\\left[\n",
    "    \\begin{array}{c}\n",
    "        \\rho \\\\\n",
    "        \\rho u \\\\\n",
    "        \\rho e_T \\\\\n",
    "    \\end{array}\n",
    "\\right]\n",
    "$$\n",
    "\n",
    "$$\n",
    "\\underline{\\mathbf{f}} =\n",
    "\\left[\n",
    "    \\begin{array}{c}\n",
    "        f_1 \\\\\n",
    "        f_2 \\\\\n",
    "        f_3 \\\\\n",
    "    \\end{array}\n",
    "\\right] =\n",
    "\\left[\n",
    "    \\begin{array}{c}\n",
    "        \\rho u \\\\\n",
    "        \\rho u^2 + p \\\\\n",
    "        (\\rho e_T + p) u \\\\\n",
    "    \\end{array}\n",
    "\\right]\n",
    "$$  \n",
    "\n",
    "With a little algebraic trickery, we can represent the pressure vector using quantities from the $\\underline{\\mathbf{u}}$ vector.\n",
    "\n",
    "$$\n",
    "p = (\\gamma -1)\\left(u_3 - \\frac{1}{2} \\frac{u^2_2}{u_1} \\right)\n",
    "$$\n",
    "\n",
    "Now that pressure can be represented in terms of $\\underline{\\mathbf{u}}$, the rest of $\\underline{\\mathbf{f}}$ isn't too difficult to resolve:\n",
    "\n",
    "$$\\underline{\\mathbf{f}} = \\left[ \\begin{array}{c}\n",
    "f_1 \\\\\n",
    "f_2 \\\\\n",
    "f_3 \\\\ \\end{array} \\right] =\n",
    "\\left[ \\begin{array}{c}\n",
    "u_2\\\\\n",
    "\\frac{u^2_2}{u_1} + (\\gamma -1)\\left(u_3 - \\frac{1}{2} \\frac{u^2_2}{u_1} \\right) \\\\\n",
    "\\left(u_3 + (\\gamma -1)\\left(u_3 - \\frac{1}{2} \\frac{u^2_2}{u_1}\\right) \\right) \\frac{u_2}{u_1}\\\\ \\end{array}\n",
    "\\right]$$\n",
    "\n",
    "## Test conditions\n",
    "\n",
    "The first test proposed by Sod in his 1978 paper is as follows.  \n",
    "\n",
    "In a tube spanning from $x = -10 \\text{m}$ to $x = 10 \\text{m}$ with the rigid membrane at $x = 0 \\text{m}$, we have the following initial gas states:\n",
    "\n",
    "$$\n",
    "\\underline{IC}_L =\n",
    "\\left[\n",
    "    \\begin{array}{c}\n",
    "        \\rho_L \\\\\n",
    "        u_L \\\\\n",
    "        p_L \\\\\n",
    "    \\end{array}\n",
    "\\right] =\n",
    "\\left[\n",
    "    \\begin{array}{c}\n",
    "        1.0 \\, kg/m^3 \\\\\n",
    "        0 \\, m/s \\\\\n",
    "        100 \\, kN/m^2 \\\\\n",
    "    \\end{array}\n",
    "\\right]\n",
    "$$\n",
    "\n",
    "$$\n",
    "\\underline{IC}_R =\n",
    "\\left[\n",
    "    \\begin{array}{c}\n",
    "        \\rho_R \\\\\n",
    "        u_R \\\\\n",
    "        p_R \\\\\n",
    "    \\end{array}\n",
    "\\right] =\n",
    "\\left[\n",
    "    \\begin{array}{c}\n",
    "        0.125 \\, kg/m^3 \\\\\n",
    "        0 \\, m/s \\\\\n",
    "        10 \\, kN/m^2 \\\\\n",
    "    \\end{array}\n",
    "\\right]\n",
    "$$\n",
    "\n",
    "where $\\underline{IC}_L$ are the initial density, velocity and pressure on the left side of the tube membrane and $\\underline{IC}_R$ are the initial density, velocity and pressure on the right side of the tube membrane.  \n",
    "\n",
    "The analytical solution to this test for the velocity, pressure and density, looks like the plots in Figure 2.\n",
    "\n",
    "![shock_analytic](./figures/shock_tube_.01.png)\n",
    "<center> Figure 2. Analytical solution for Sod's first test. </center>\n",
    "\n",
    "## The Richtmyer method\n",
    "\n",
    "For this exercise, you will use the **Lax-Friedrichs** scheme that we implemented in [lesson 2](https://nbviewer.jupyter.org/github/numerical-mooc/numerical-mooc/blob/master/lessons/03_wave/03_02_convectionSchemes.ipynb).\n",
    "But, we will also be using a new scheme called the **Richtmyer** method.\n",
    "Like the MacCormack method, Richtmyer is a *two-step method*, given by:\n",
    "\n",
    "$$\n",
    "\\begin{align}\n",
    "\\underline{\\mathbf{u}}^{n+\\frac{1}{2}}_{i+\\frac{1}{2}} &= \\frac{1}{2} \\left( \\underline{\\mathbf{u}}^n_{i+1} + \\underline{\\mathbf{u}}^n_i \\right) - \n",
    "\\frac{\\Delta t}{2 \\Delta x} \\left( \\underline{\\mathbf{f}}^n_{i+1} - \\underline{\\mathbf{f}}^n_i\\right) \\\\\n",
    "\\underline{\\mathbf{u}}^{n+1}_i &= \\underline{\\mathbf{u}}^n_i - \\frac{\\Delta t}{\\Delta x} \\left(\\underline{\\mathbf{f}}^{n+\\frac{1}{2}}_{i+\\frac{1}{2}} - \\underline{\\mathbf{f}}^{n+\\frac{1}{2}}_{i-\\frac{1}{2}} \\right)\n",
    "\\end{align}\n",
    "$$\n",
    "\n",
    "The flux vectors used in the second step are obtained by evaluating the flux functions on the output of the first step:\n",
    "\n",
    "$$\n",
    "\\underline{\\mathbf{f}}^{n+\\frac{1}{2}}_{i+\\frac{1}{2}} = \\underline{\\mathbf{f}}\\left(\\underline{\\mathbf{u}}^{n+\\frac{1}{2}}_{i+\\frac{1}{2}}\\right)\n",
    "$$\n",
    "\n",
    "The first step is like a *predictor* of the solution: if you look closely, you'll see that we are applying a Lax-Friedrichs scheme here. The second step is a *corrector* that applies a leapfrog update. Figure 3 gives a sketch of the stencil for Richtmyer method, where the \"intermediate time\" $n+1/2$ will require a temporary variable in your code, just like we had in the MacCormack scheme.\n",
    "\n",
    "![richtmyer](./figures/richtmyer.png)\n",
    "<center> Figure 3. Stencil of Richtmyer scheme. </center>"
   ]
  },
  {
   "cell_type": "markdown",
   "metadata": {
    "deletable": false,
    "editable": false,
    "nbgrader": {
     "cell_type": "markdown",
     "checksum": "ea2548a1ae52f9c86d831a27773076cb",
     "grade": false,
     "grade_id": "md-solution",
     "locked": true,
     "schema_version": 3,
     "solution": false
    }
   },
   "source": [
    "## Implement your solution (40 points)\n",
    "\n",
    "---\n",
    "\n",
    "Your mission, should you wish to accept it, is to calculate the pressure, density and velocity along the shock tube at time $t = 0.01 s$ using the Richtmyer method **and** the Lax-Friedrichs method. Good luck!\n",
    "\n",
    "Code parameters to use:\n",
    "\n",
    "* Number of discrete points along the 1D domain: `nx = 81` (which gives `dx = 0.25` for a domain of length 20).\n",
    "* Time-step size: `dt = 0.0002`.\n",
    "* Heat capacity ratio: `gamma = 1.4`.\n",
    "\n",
    "Implement your solution in this section.\n",
    "You can use as many code cells as you want."
   ]
  },
  {
   "cell_type": "code",
   "execution_count": 2,
   "metadata": {
    "deletable": false,
    "nbgrader": {
     "cell_type": "code",
     "checksum": "0f3b7658fb1cb5b57f5e39ad9421acbb",
     "grade": true,
     "grade_id": "code-solution",
     "locked": false,
     "points": 40,
     "schema_version": 3,
     "solution": true
    }
   },
   "outputs": [],
   "source": [
    "# YOUR CODE HERE\n",
    "import numpy\n",
    "import sympy\n",
    "from matplotlib import pyplot\n",
    "%matplotlib inline"
   ]
  },
  {
   "cell_type": "code",
   "execution_count": 3,
   "metadata": {},
   "outputs": [],
   "source": [
    "# Set the font family and size to use for Matplotlib figures.\n",
    "pyplot.rcParams['font.family'] = 'serif'\n",
    "pyplot.rcParams['font.size'] = 16\n",
    "sympy.init_printing()"
   ]
  },
  {
   "cell_type": "code",
   "execution_count": 4,
   "metadata": {},
   "outputs": [],
   "source": [
    "# Set parameters.\n",
    "nx = 81\n",
    "dx = 0.25\n",
    "dt = 0.0002\n",
    "gamma = 1.4\n",
    "t = 0.01\n",
    "nt = int(t/dt)+1"
   ]
  },
  {
   "cell_type": "code",
   "execution_count": 5,
   "metadata": {},
   "outputs": [],
   "source": [
    "# Get the grid point coordinates.\n",
    "x = numpy.linspace(-10,10,num = nx)\n",
    "\n",
    "# Set the initial conditions.\n",
    "rho0 = numpy.ones(nx)\n",
    "mask = numpy.where(x >= 0)\n",
    "rho0[mask] = 0.125\n",
    "p0 = 100000*numpy.ones(nx)\n",
    "p0[mask] = 10000\n",
    "v0 = numpy.zeros(nx)\n",
    "e0 = p0 / ((gamma-1) * rho0)\n",
    "eT0 = e0 + 0.5 * v0**2\n",
    "\n",
    "u0 = numpy.array([rho0,\n",
    "                 rho0*v0,\n",
    "                 rho0*eT0])\n",
    "f0 = numpy.array([u0[1],\n",
    "                 u0[1]**2 / u0[0] + (gamma-1)*(u0[2] - 0.5*u0[1]**2 / u0[0]),\n",
    "                 (u0[2] + (gamma - 1) * (u0[2] - 0.5*u0[1]**2 / u0[0])) * u0[1] / u0[0]])"
   ]
  },
  {
   "cell_type": "code",
   "execution_count": 6,
   "metadata": {},
   "outputs": [],
   "source": [
    "# Richtmyer scheme, two step method, R1, R2\n",
    "u_R2 = u0.copy()\n",
    "u_R1 = u_R2.copy()\n",
    "f_R2 = f0.copy()\n",
    "\n",
    "for i in range(1, nt):\n",
    "    u_R1 = 0.5 * (u_R2[:,1:] + u_R2[:,:-1]) - dt / (2 * dx) * (f_R2[:,1:] - f_R2[:,:-1])# first step is like a predictor of the solution\n",
    "    f_R1 = numpy.array([u_R1[1],\n",
    "                        u_R1[1]**2 / u_R1[0] + (gamma - 1) * (u_R1[2] - 0.5 * u_R1[1]**2 / u_R1[0]),\n",
    "                        (u_R1[2] + (gamma -1) * (u_R1[2] - 0.5 * u_R1[1]**2 / u_R1[0])) * u_R1[1] / u_R1[0]])\n",
    "    u_R2[:,1:-1] = u_R2[:,1:-1] - dt / dx * (f_R1[:,1:] - f_R1[:,:-1])# corrector that applies a leapfrog update, advance in time\n",
    "    f_R2 = numpy.array([u_R2[1],\n",
    "                        u_R2[1]**2 / u_R2[0] + (gamma - 1) * (u_R2[2] - 0.5 * u_R2[1]**2 / u_R2[0]),\n",
    "                       (u_R2[2] + (gamma -1) * (u_R2[2] - 0.5 * u_R2[1]**2 / u_R2[0])) * u_R2[1] / u_R2[0]])\n",
    "\n",
    "rho_Richtmyer = u_R2[0]\n",
    "v_Richtmyer = u_R2[1] / u_R2[0]\n",
    "p_Richtmyer = (gamma -1) * (u_R2[2] - 0.5 * u_R2[1]**2 / u_R2[0])"
   ]
  },
  {
   "cell_type": "code",
   "execution_count": 7,
   "metadata": {},
   "outputs": [],
   "source": [
    "# Lax-Friedrichs scheme\n",
    "u_L = u0.copy()\n",
    "f_L = f0.copy()\n",
    "for n in range(1, nt):\n",
    "    # Advance in time using Lax-Friedrichs scheme.\n",
    "    u_L[:,1:-1] = 0.5*(u_L[:,:-2] + u_L[:,2:]) - 0.5*dt/dx * (f_L[:,2:] - f_L[:,:-2])\n",
    "    f_L = numpy.array([u_L[1],\n",
    "                      u_L[1]**2 / u_L[0] + (gamma - 1) * (u_L[2] - 0.5 * u_L[1]**2 / u_L[0]),\n",
    "                     (u_L[2] + (gamma -1) * (u_L[2] - 0.5 * u_L[1]**2 / u_L[0])) * u_L[1] / u_L[0]])\n",
    "rho_Lax = u_L[0]\n",
    "v_Lax = u_L[1] / u_L[0]\n",
    "p_Lax = (gamma -1) * (u_L[2] - 0.5 * u_L[1]**2 / u_L[0])"
   ]
  },
  {
   "cell_type": "markdown",
   "metadata": {
    "deletable": false,
    "editable": false,
    "nbgrader": {
     "cell_type": "markdown",
     "checksum": "080444202bfc5fd508a1fa03033b8da6",
     "grade": false,
     "grade_id": "md-assessment",
     "locked": true,
     "schema_version": 3,
     "solution": false
    }
   },
   "source": [
    "## Assessment (80 points)\n",
    "\n",
    "---\n",
    "\n",
    "Answer questions in this section.\n",
    "\n",
    "Do not try to delete or modify empty code cells that are already present.\n",
    "For each question, provide your answer in the cell **just above** the empty cell.\n",
    "(This empty cell contains hidden tests to assert the correctness of your answer and cannot be deleted.)\n",
    "Pay attention to the name of the variables we ask you to create to store computed values; if the name of the variable is misspelled, the test will fail."
   ]
  },
  {
   "cell_type": "code",
   "execution_count": 8,
   "metadata": {
    "deletable": false,
    "editable": false,
    "nbgrader": {
     "cell_type": "code",
     "checksum": "9086a093d3d2dc8cd14006ad6a61172a",
     "grade": false,
     "grade_id": "import-mooc",
     "locked": true,
     "schema_version": 3,
     "solution": false
    }
   },
   "outputs": [],
   "source": [
    "try:\n",
    "    import mooc37 as mooc\n",
    "except:\n",
    "    import mooc36 as mooc"
   ]
  },
  {
   "cell_type": "markdown",
   "metadata": {
    "deletable": false,
    "editable": false,
    "nbgrader": {
     "cell_type": "markdown",
     "checksum": "e9b0b49f03e7489c1356922e83a10543",
     "grade": false,
     "grade_id": "md-q1",
     "locked": true,
     "schema_version": 3,
     "solution": false
    }
   },
   "source": [
    "* **Q1 (10 points):** Plot the numerical solution of the density, velocity, and pressure at time $t = 0.01 s$ obtained with the Richtmyer scheme **and** with the Lax-Friedrichs scheme.\n",
    "\n",
    "You should also plot the analytical solution.\n",
    "The analytical solution can be obtained using the function `analytical_solution` from the Python file `sod.py` (located in the same folder than the Jupyter Notebook).\n",
    "To import the function in your Notebook, use `from sod import analytical_solution`.\n",
    "You can use `help(analytical_solution)` to see how you should call the function.\n",
    "\n",
    "Create one figure per variable and make sure to label your axes.\n",
    "(For example, the first figure should contain the numerical solution of the density using both schemes, as well as the analytical solution for the density.)\n",
    "Make sure to add a legend to your plots."
   ]
  },
  {
   "cell_type": "code",
   "execution_count": 9,
   "metadata": {
    "deletable": false,
    "nbgrader": {
     "cell_type": "code",
     "checksum": "e9ee4d6aa2b5943131f409aa1da4d3f8",
     "grade": true,
     "grade_id": "code-a1",
     "locked": false,
     "points": 10,
     "schema_version": 3,
     "solution": true
    }
   },
   "outputs": [
    {
     "name": "stdout",
     "output_type": "stream",
     "text": [
      "Help on function analytical_solution in module sod:\n",
      "\n",
      "analytical_solution(t, x, left_state, right_state, diaphragm=0.0, gamma=1.4)\n",
      "    Compute the analytical solution of the Sod's test at a given time.\n",
      "    \n",
      "    Parameters\n",
      "    ----------\n",
      "    t : float\n",
      "        The time.\n",
      "    x : numpy.ndarray\n",
      "        Coordinates along the tube (as a 1D array of floats).\n",
      "    left_state : tuple or list\n",
      "        Initial density, velocity, and pressure values\n",
      "        on left side of the diaphragm.\n",
      "        The argument should be a tuple or list with 3 floats.\n",
      "    right_state : tuple or list\n",
      "        Initial density, velocity, and pressure values\n",
      "        on right side of the diaphragm.\n",
      "        The argument should be a tuple or list with 3 floats.\n",
      "    diaphragm : float, optional\n",
      "        Location of the diaphgram (membrane), by default 0.0.\n",
      "    gamma : float, optional\n",
      "        Heat capacity ratio, by default 1.4.\n",
      "    \n",
      "    Returns\n",
      "    -------\n",
      "    tuple of numpy.ndarray objects\n",
      "        The density, velocity, and pressure along the tube at the given time.\n",
      "        This is a tuple with 3 elements: (density, velocity, pressure).\n",
      "        Each element is a 1D NumPy array of floats.\n",
      "\n"
     ]
    }
   ],
   "source": [
    "# YOUR CODE HERE\n",
    "from sod import analytical_solution\n",
    "help(analytical_solution)"
   ]
  },
  {
   "cell_type": "code",
   "execution_count": 10,
   "metadata": {},
   "outputs": [],
   "source": [
    "# Analytical solution\n",
    "# Set the initial conditions.\n",
    "left_state = [1.0, 0.0, 100000.0]\n",
    "right_state = [0.125, 0.0, 10000.0]\n",
    "\n",
    "# Analytical solution at t = 0.01\n",
    "A = analytical_solution(t, x, left_state, right_state, diaphragm=0.0, gamma=1.4)\n",
    "rho_analytical = A[0]\n",
    "v_analytical = A[1]\n",
    "p_analytical = A[2]"
   ]
  },
  {
   "cell_type": "code",
   "execution_count": 11,
   "metadata": {},
   "outputs": [
    {
     "data": {
      "image/png": "[encoded data removed]",
      "text/latex": [
       "$\\displaystyle \\left( 0.0, \\  1.1\\right)$"
      ],
      "text/plain": [
       "(0.0, 1.1)"
      ]
     },
     "execution_count": 11,
     "metadata": {},
     "output_type": "execute_result"
    },
    {
     "data": {
      "image/png": "[encoded data removed]",
      "text/plain": [
       "<Figure size 432x432 with 1 Axes>"
      ]
     },
     "metadata": {
      "needs_background": "light"
     },
     "output_type": "display_data"
    }
   ],
   "source": [
    "# Plot rho\n",
    "pyplot.figure(figsize=(6.0, 6.0))\n",
    "pyplot.title('Density at time 0.01s')\n",
    "pyplot.xlabel('x')\n",
    "pyplot.ylabel('rho')\n",
    "pyplot.grid()\n",
    "pyplot.plot(x, rho_Richtmyer, label='Richtmyer', color='C0', linestyle='-', linewidth=2)\n",
    "pyplot.plot(x, rho_Lax, label='Lax-Friedrich', color='C1', linestyle='-', linewidth=2)\n",
    "pyplot.plot(x, rho_analytical, label='Analytical', color='C2', linestyle='-', linewidth=2)\n",
    "pyplot.legend()\n",
    "pyplot.xlim(-10.0, 10.0)\n",
    "pyplot.ylim(0.0, 1.1)"
   ]
  },
  {
   "cell_type": "code",
   "execution_count": 12,
   "metadata": {},
   "outputs": [
    {
     "data": {
      "image/png": "[encoded data removed]",
      "text/latex": [
       "$\\displaystyle \\left( 0.0, \\  400.0\\right)$"
      ],
      "text/plain": [
       "(0.0, 400.0)"
      ]
     },
     "execution_count": 12,
     "metadata": {},
     "output_type": "execute_result"
    },
    {
     "data": {
      "image/png": "[encoded data removed]",
      "text/plain": [
       "<Figure size 432x432 with 1 Axes>"
      ]
     },
     "metadata": {
      "needs_background": "light"
     },
     "output_type": "display_data"
    }
   ],
   "source": [
    "# Plot velocity\n",
    "pyplot.figure(figsize=(6.0, 6.0))\n",
    "pyplot.title('Velocity at time 0.01s')\n",
    "pyplot.xlabel('x')\n",
    "pyplot.ylabel('velocity')\n",
    "pyplot.grid()\n",
    "pyplot.plot(x, v_Richtmyer, label='Richtmyer', color='C0', linestyle='-', linewidth=2)\n",
    "pyplot.plot(x, v_Lax, label='Lax-Friedrich', color='C1', linestyle='-', linewidth=2)\n",
    "pyplot.plot(x, v_analytical, label='Analytical', color='C2', linestyle='-', linewidth=2)\n",
    "pyplot.legend()\n",
    "pyplot.xlim(-10.0, 10.0)\n",
    "pyplot.ylim(0.0, 400.0)"
   ]
  },
  {
   "cell_type": "code",
   "execution_count": 13,
   "metadata": {},
   "outputs": [
    {
     "data": {
      "image/png": "[encoded data removed]",
      "text/latex": [
       "$\\displaystyle \\left( 0.0, \\  110000.0\\right)$"
      ],
      "text/plain": [
       "(0.0, 110000.0)"
      ]
     },
     "execution_count": 13,
     "metadata": {},
     "output_type": "execute_result"
    },
    {
     "data": {
      "image/png": "[encoded data removed]",
      "text/plain": [
       "<Figure size 432x432 with 1 Axes>"
      ]
     },
     "metadata": {
      "needs_background": "light"
     },
     "output_type": "display_data"
    }
   ],
   "source": [
    "# Plot pressure\n",
    "pyplot.figure(figsize=(6.0, 6.0))\n",
    "pyplot.title('Pressure at time 0.01s')\n",
    "pyplot.xlabel('x')\n",
    "pyplot.ylabel('pressure')\n",
    "pyplot.grid()\n",
    "pyplot.plot(x, p_Richtmyer, label='Richtmyer', color='C0', linestyle='-', linewidth=2)\n",
    "pyplot.plot(x, p_Lax, label='Lax-Friedrich', color='C1', linestyle='-', linewidth=2)\n",
    "pyplot.plot(x, p_analytical, label='analytical', color='C2', linestyle='-', linewidth=2)\n",
    "pyplot.legend()\n",
    "pyplot.xlim(-10.0, 10.0)\n",
    "pyplot.ylim(0.0, 110000.0)"
   ]
  },
  {
   "cell_type": "markdown",
   "metadata": {
    "deletable": false,
    "editable": false,
    "nbgrader": {
     "cell_type": "markdown",
     "checksum": "30406a85dfaa7e53504dd11bca20fc74",
     "grade": false,
     "grade_id": "md-q2",
     "locked": true,
     "schema_version": 3,
     "solution": false
    }
   },
   "source": [
    "* **Q2 (10 points):** At $t = 0.01 s$, what type of numerical errors to you observe in the numerical solution obtained with the Richtmyer scheme and with the Lax-Friedrichs scheme? (Diffusion errors? Dispersion errors? Explain why.)\n",
    "\n",
    "You should write your answer in the following Markdown cell."
   ]
  },
  {
   "cell_type": "markdown",
   "metadata": {
    "deletable": false,
    "nbgrader": {
     "cell_type": "markdown",
     "checksum": "0bd025d0c6d4b9ba3c9dbe01f209a577",
     "grade": true,
     "grade_id": "md-a2",
     "locked": false,
     "points": 10,
     "schema_version": 3,
     "solution": true
    }
   },
   "source": [
    "YOUR ANSWER HERE\n",
    "\n",
    "The Richtmyer scheme has dispersion errors. Observing the curve, we can find that the richtmyer scheme curve is closer to the analytical curve, and the curve oscillates, which is achieved through second-order accuracy. Numerical dispersion occurs when a higher order discretisation scheme is used to improve accuracy of the result. Numerical dispersion often takes the form of so-called 'spurious oscillations'. This is due to the truncation error of the discretisation. This is due to the truncation error of the discretisation. A second order upwind method, the leading truncation error is odd. And odd order derivatives contribute to numerical dispersion. \n",
    "\n",
    "The Lax-Friedrichs scheme has diffusion errors. substituting  𝜌𝑛𝑖  by the average of its neighbors introduces a first-order error. Numerical diffusion occurs when 1st order discretisation are used. This is due to the truncation error of the discretisation. The truncation is an odd-order method, the leading truncation error is even. Even order derivatives in the truncation error contribute to numerical diffusion."
   ]
  },
  {
   "cell_type": "markdown",
   "metadata": {
    "deletable": false,
    "editable": false,
    "nbgrader": {
     "cell_type": "markdown",
     "checksum": "bb02e282f82ede126c09e970ca64665b",
     "grade": false,
     "grade_id": "md-q3",
     "locked": true,
     "schema_version": 3,
     "solution": false
    }
   },
   "source": [
    "* **Q3 (5 points):** At $t = 0.01 s$, what's the $L_2$-norm of the difference between the density obtained with the Richtmyer scheme and the analytical solution?\n",
    "\n",
    "Store your result in the variable `l2_norm1`; you can check your answer by calling the function `mooc.check('hw3_l2_norm1', l2_norm1)`.\n",
    "\n",
    "**WARNING:** the variable name `l2_norm1` is spelled with the number `1`, **not** the letter `l`."
   ]
  },
  {
   "cell_type": "code",
   "execution_count": 14,
   "metadata": {
    "deletable": false,
    "nbgrader": {
     "cell_type": "code",
     "checksum": "17da7e5e2549f2498d222e7f5d9e5187",
     "grade": false,
     "grade_id": "code-a3",
     "locked": false,
     "schema_version": 3,
     "solution": true
    }
   },
   "outputs": [
    {
     "name": "stdout",
     "output_type": "stream",
     "text": [
      "Help on function norm in module numpy.linalg:\n",
      "\n",
      "norm(x, ord=None, axis=None, keepdims=False)\n",
      "    Matrix or vector norm.\n",
      "    \n",
      "    This function is able to return one of eight different matrix norms,\n",
      "    or one of an infinite number of vector norms (described below), depending\n",
      "    on the value of the ``ord`` parameter.\n",
      "    \n",
      "    Parameters\n",
      "    ----------\n",
      "    x : array_like\n",
      "        Input array.  If `axis` is None, `x` must be 1-D or 2-D, unless `ord`\n",
      "        is None. If both `axis` and `ord` are None, the 2-norm of\n",
      "        ``x.ravel`` will be returned.\n",
      "    ord : {non-zero int, inf, -inf, 'fro', 'nuc'}, optional\n",
      "        Order of the norm (see table under ``Notes``). inf means numpy's\n",
      "        `inf` object. The default is None.\n",
      "    axis : {None, int, 2-tuple of ints}, optional.\n",
      "        If `axis` is an integer, it specifies the axis of `x` along which to\n",
      "        compute the vector norms.  If `axis` is a 2-tuple, it specifies the\n",
      "        axes that hold 2-D matrices, and the matrix norms of these matrices\n",
      "        are computed.  If `axis` is None then either a vector norm (when `x`\n",
      "        is 1-D) or a matrix norm (when `x` is 2-D) is returned. The default\n",
      "        is None.\n",
      "    \n",
      "        .. versionadded:: 1.8.0\n",
      "    \n",
      "    keepdims : bool, optional\n",
      "        If this is set to True, the axes which are normed over are left in the\n",
      "        result as dimensions with size one.  With this option the result will\n",
      "        broadcast correctly against the original `x`.\n",
      "    \n",
      "        .. versionadded:: 1.10.0\n",
      "    \n",
      "    Returns\n",
      "    -------\n",
      "    n : float or ndarray\n",
      "        Norm of the matrix or vector(s).\n",
      "    \n",
      "    See Also\n",
      "    --------\n",
      "    scipy.linalg.norm : Similar function in SciPy.\n",
      "    \n",
      "    Notes\n",
      "    -----\n",
      "    For values of ``ord < 1``, the result is, strictly speaking, not a\n",
      "    mathematical 'norm', but it may still be useful for various numerical\n",
      "    purposes.\n",
      "    \n",
      "    The following norms can be calculated:\n",
      "    \n",
      "    =====  ============================  ==========================\n",
      "    ord    norm for matrices             norm for vectors\n",
      "    =====  ============================  ==========================\n",
      "    None   Frobenius norm                2-norm\n",
      "    'fro'  Frobenius norm                --\n",
      "    'nuc'  nuclear norm                  --\n",
      "    inf    max(sum(abs(x), axis=1))      max(abs(x))\n",
      "    -inf   min(sum(abs(x), axis=1))      min(abs(x))\n",
      "    0      --                            sum(x != 0)\n",
      "    1      max(sum(abs(x), axis=0))      as below\n",
      "    -1     min(sum(abs(x), axis=0))      as below\n",
      "    2      2-norm (largest sing. value)  as below\n",
      "    -2     smallest singular value       as below\n",
      "    other  --                            sum(abs(x)**ord)**(1./ord)\n",
      "    =====  ============================  ==========================\n",
      "    \n",
      "    The Frobenius norm is given by [1]_:\n",
      "    \n",
      "        :math:`||A||_F = [\\sum_{i,j} abs(a_{i,j})^2]^{1/2}`\n",
      "    \n",
      "    The nuclear norm is the sum of the singular values.\n",
      "    \n",
      "    Both the Frobenius and nuclear norm orders are only defined for\n",
      "    matrices and raise a ValueError when ``x.ndim != 2``.\n",
      "    \n",
      "    References\n",
      "    ----------\n",
      "    .. [1] G. H. Golub and C. F. Van Loan, *Matrix Computations*,\n",
      "           Baltimore, MD, Johns Hopkins University Press, 1985, pg. 15\n",
      "    \n",
      "    Examples\n",
      "    --------\n",
      "    >>> from numpy import linalg as LA\n",
      "    >>> a = np.arange(9) - 4\n",
      "    >>> a\n",
      "    array([-4, -3, -2, ...,  2,  3,  4])\n",
      "    >>> b = a.reshape((3, 3))\n",
      "    >>> b\n",
      "    array([[-4, -3, -2],\n",
      "           [-1,  0,  1],\n",
      "           [ 2,  3,  4]])\n",
      "    \n",
      "    >>> LA.norm(a)\n",
      "    7.745966692414834\n",
      "    >>> LA.norm(b)\n",
      "    7.745966692414834\n",
      "    >>> LA.norm(b, 'fro')\n",
      "    7.745966692414834\n",
      "    >>> LA.norm(a, np.inf)\n",
      "    4.0\n",
      "    >>> LA.norm(b, np.inf)\n",
      "    9.0\n",
      "    >>> LA.norm(a, -np.inf)\n",
      "    0.0\n",
      "    >>> LA.norm(b, -np.inf)\n",
      "    2.0\n",
      "    \n",
      "    >>> LA.norm(a, 1)\n",
      "    20.0\n",
      "    >>> LA.norm(b, 1)\n",
      "    7.0\n",
      "    >>> LA.norm(a, -1)\n",
      "    -4.6566128774142013e-010\n",
      "    >>> LA.norm(b, -1)\n",
      "    6.0\n",
      "    >>> LA.norm(a, 2)\n",
      "    7.745966692414834\n",
      "    >>> LA.norm(b, 2)\n",
      "    7.3484692283495345\n",
      "    \n",
      "    >>> LA.norm(a, -2)\n",
      "    0.0\n",
      "    >>> LA.norm(b, -2)\n",
      "    1.8570331885190563e-016 # may vary\n",
      "    >>> LA.norm(a, 3)\n",
      "    5.8480354764257312 # may vary\n",
      "    >>> LA.norm(a, -3)\n",
      "    0.0\n",
      "    \n",
      "    Using the `axis` argument to compute vector norms:\n",
      "    \n",
      "    >>> c = np.array([[ 1, 2, 3],\n",
      "    ...               [-1, 1, 4]])\n",
      "    >>> LA.norm(c, axis=0)\n",
      "    array([ 1.41421356,  2.23606798,  5.        ])\n",
      "    >>> LA.norm(c, axis=1)\n",
      "    array([ 3.74165739,  4.24264069])\n",
      "    >>> LA.norm(c, ord=1, axis=1)\n",
      "    array([ 6.,  6.])\n",
      "    \n",
      "    Using the `axis` argument to compute matrix norms:\n",
      "    \n",
      "    >>> m = np.arange(8).reshape(2,2,2)\n",
      "    >>> LA.norm(m, axis=(1,2))\n",
      "    array([  3.74165739,  11.22497216])\n",
      "    >>> LA.norm(m[0, :, :]), LA.norm(m[1, :, :])\n",
      "    (3.7416573867739413, 11.224972160321824)\n",
      "\n",
      "0.2497209782456826\n",
      "[hw3_l2_norm1] Good job!\n"
     ]
    }
   ],
   "source": [
    "# YOUR CODE HERE\n",
    "Diff = rho_Richtmyer - rho_analytical\n",
    "help(numpy.linalg.norm)\n",
    "l2_norm1 = numpy.linalg.norm(Diff, ord=2, axis=0)\n",
    "print(l2_norm1)\n",
    "mooc.check('hw3_l2_norm1', l2_norm1)"
   ]
  },
  {
   "cell_type": "code",
   "execution_count": null,
   "metadata": {
    "deletable": false,
    "editable": false,
    "nbgrader": {
     "cell_type": "code",
     "checksum": "d8444b1e7f74f35779aae9acc14be869",
     "grade": true,
     "grade_id": "code-t3",
     "locked": true,
     "points": 5,
     "schema_version": 3,
     "solution": false
    }
   },
   "outputs": [],
   "source": []
  },
  {
   "cell_type": "markdown",
   "metadata": {
    "deletable": false,
    "editable": false,
    "nbgrader": {
     "cell_type": "markdown",
     "checksum": "e222f783393dab63daa3112d81ad9e65",
     "grade": false,
     "grade_id": "md-q4",
     "locked": true,
     "schema_version": 3,
     "solution": false
    }
   },
   "source": [
    "* **Q4 (5 points):** At $t = 0.01 s$, what's the $L_2$-norm of the difference between the density obtained with the Lax-Friedrichs scheme and the analytical solution?\n",
    "\n",
    "Store your result in the variable `l2_norm2`; you can check your answer by calling the function `mooc.check('hw3_l2_norm2', l2_norm2)`."
   ]
  },
  {
   "cell_type": "code",
   "execution_count": 15,
   "metadata": {
    "deletable": false,
    "nbgrader": {
     "cell_type": "code",
     "checksum": "6b825e0ffa88f8ee5bf7b73fec4032ad",
     "grade": false,
     "grade_id": "code-a4",
     "locked": false,
     "schema_version": 3,
     "solution": true
    }
   },
   "outputs": [
    {
     "name": "stdout",
     "output_type": "stream",
     "text": [
      "0.4610293528265613\n",
      "[hw3_l2_norm2] Good job!\n"
     ]
    }
   ],
   "source": [
    "# YOUR CODE HERE\n",
    "Diff_2 = rho_Lax - rho_analytical\n",
    "l2_norm2 = numpy.linalg.norm(Diff_2, ord=2, axis=0)\n",
    "print(l2_norm2)\n",
    "mooc.check('hw3_l2_norm2', l2_norm2)"
   ]
  },
  {
   "cell_type": "code",
   "execution_count": null,
   "metadata": {
    "deletable": false,
    "editable": false,
    "nbgrader": {
     "cell_type": "code",
     "checksum": "fc223ef572529ff5e7fc8e2d9b83b475",
     "grade": true,
     "grade_id": "code-t4",
     "locked": true,
     "points": 5,
     "schema_version": 3,
     "solution": false
    }
   },
   "outputs": [],
   "source": []
  },
  {
   "cell_type": "markdown",
   "metadata": {
    "deletable": false,
    "editable": false,
    "nbgrader": {
     "cell_type": "markdown",
     "checksum": "dee7b43443b04c2da1e571a4f5503eb2",
     "grade": false,
     "grade_id": "md-q5",
     "locked": true,
     "schema_version": 3,
     "solution": false
    }
   },
   "source": [
    "* **Q5 (5 points):** At $t = 0.01 s$, what's the value of the density, obtained with Richtmyer scheme, at location $x = 2.5 m$ (in $kg/m^3$)?\n",
    "\n",
    "Store your result in the variable `rho1`; you can check your answer by calling the function `mooc.check('hw3_rho1', rho1)`.\n",
    "\n",
    "**WARNING**: the variable name `rho1` is spelled with the number `1`, **not** the letter `l`."
   ]
  },
  {
   "cell_type": "code",
   "execution_count": 16,
   "metadata": {
    "deletable": false,
    "nbgrader": {
     "cell_type": "code",
     "checksum": "5a48b5b75b30564f37316342b7e33cbc",
     "grade": false,
     "grade_id": "code-a5",
     "locked": false,
     "schema_version": 3,
     "solution": true
    }
   },
   "outputs": [
    {
     "name": "stdout",
     "output_type": "stream",
     "text": [
      "0.3746914026476011\n",
      "[hw3_rho1] Good job!\n"
     ]
    }
   ],
   "source": [
    "# YOUR CODE HERE\n",
    "rho1 = rho_Richtmyer[int((2.5+10)/dx)]\n",
    "print(rho1)\n",
    "mooc.check('hw3_rho1', rho1)"
   ]
  },
  {
   "cell_type": "code",
   "execution_count": null,
   "metadata": {
    "deletable": false,
    "editable": false,
    "nbgrader": {
     "cell_type": "code",
     "checksum": "29e4c859a2db4cd8188e07d62218e3d9",
     "grade": true,
     "grade_id": "code-t5",
     "locked": true,
     "points": 5,
     "schema_version": 3,
     "solution": false
    }
   },
   "outputs": [],
   "source": []
  },
  {
   "cell_type": "markdown",
   "metadata": {
    "deletable": false,
    "editable": false,
    "nbgrader": {
     "cell_type": "markdown",
     "checksum": "3c75b31edcac6ac4b7dc02f6de5abe30",
     "grade": false,
     "grade_id": "md-q6",
     "locked": true,
     "schema_version": 3,
     "solution": false
    }
   },
   "source": [
    "* **Q6 (5 points):** At $t = 0.01 s$, what's the value of the velocity, obtained with Lax-Friedrichs scheme, at location $x = 2.5 m$ (in $m/s$)?\n",
    "\n",
    "Store your result in the variable `v2`; you can check your answer by calling the function `mooc.check('hw3_v2', v2)`."
   ]
  },
  {
   "cell_type": "code",
   "execution_count": 17,
   "metadata": {
    "deletable": false,
    "nbgrader": {
     "cell_type": "code",
     "checksum": "992b699afcf9dbbd2458333f30585215",
     "grade": false,
     "grade_id": "code-a6",
     "locked": false,
     "schema_version": 3,
     "solution": true
    }
   },
   "outputs": [
    {
     "name": "stdout",
     "output_type": "stream",
     "text": [
      "281.8563023522752\n",
      "[hw3_v2] Good job!\n"
     ]
    }
   ],
   "source": [
    "# YOUR CODE HERE\n",
    "v2 = v_Lax[int((2.5+10)/dx)]\n",
    "print(v2)\n",
    "mooc.check('hw3_v2', v2)"
   ]
  },
  {
   "cell_type": "code",
   "execution_count": null,
   "metadata": {
    "deletable": false,
    "editable": false,
    "nbgrader": {
     "cell_type": "code",
     "checksum": "28aed0c4a5e7749e69d1b0387101f1f2",
     "grade": true,
     "grade_id": "code-t6",
     "locked": true,
     "points": 5,
     "schema_version": 3,
     "solution": false
    }
   },
   "outputs": [],
   "source": []
  },
  {
   "cell_type": "markdown",
   "metadata": {
    "deletable": false,
    "editable": false,
    "nbgrader": {
     "cell_type": "markdown",
     "checksum": "b43bd40b3ef11712035601ce09ec055c",
     "grade": false,
     "grade_id": "md-q7",
     "locked": true,
     "schema_version": 3,
     "solution": false
    }
   },
   "source": [
    "* **Q7 (5 points):** At $t = 0.01 s$, what's the absolute difference in the pressure, between the analytical solution and the Richtmyer solution, at location $x = 2.5 m$ (in $N/m^2$)?\n",
    "\n",
    "Store your result in the variable `p_diff`; you can check your answer by calling the function `mooc.check('hw3_p_diff', p_diff)`."
   ]
  },
  {
   "cell_type": "code",
   "execution_count": 18,
   "metadata": {
    "deletable": false,
    "nbgrader": {
     "cell_type": "code",
     "checksum": "5716433795e7e60d39a93971c9a8661b",
     "grade": false,
     "grade_id": "code-a7",
     "locked": false,
     "schema_version": 3,
     "solution": true
    }
   },
   "outputs": [
    {
     "name": "stdout",
     "output_type": "stream",
     "text": [
      "64.17847424907086\n",
      "[hw3_p_diff] Good job!\n"
     ]
    }
   ],
   "source": [
    "# YOUR CODE HERE\n",
    "p_R = p_Richtmyer[int((2.5+10)/dx)]\n",
    "p_A = p_analytical[int((2.5+10)/dx)]\n",
    "p_diff = abs(p_R - p_A)\n",
    "print(p_diff)\n",
    "mooc.check('hw3_p_diff', p_diff)"
   ]
  },
  {
   "cell_type": "code",
   "execution_count": null,
   "metadata": {
    "deletable": false,
    "editable": false,
    "nbgrader": {
     "cell_type": "code",
     "checksum": "11d9e3ad8e08106d29ee0adff7fd5cba",
     "grade": true,
     "grade_id": "code-t7",
     "locked": true,
     "points": 5,
     "schema_version": 3,
     "solution": false
    }
   },
   "outputs": [],
   "source": []
  },
  {
   "cell_type": "markdown",
   "metadata": {
    "deletable": false,
    "editable": false,
    "nbgrader": {
     "cell_type": "markdown",
     "checksum": "c3b947d90ccce9c5c365423e47c42614",
     "grade": false,
     "grade_id": "md-q8",
     "locked": true,
     "schema_version": 3,
     "solution": false
    }
   },
   "source": [
    "* **Q8 (5 points):** At $t = 0.01 s$, what's the value of the entropy, obtained with Richtmyer scheme, at location $x = -1.5 m$ (in $J/kg/K$)?\n",
    "\n",
    "The entropy $s$ is defined as:\n",
    "\n",
    "$$\n",
    "s = \\frac{p}{\\rho^\\gamma}\n",
    "$$\n",
    "\n",
    "Store your result in the variable `s1`; you can check your answer by calling the function `mooc.check('hw3_s1', s1)`.\n",
    "\n",
    "**WARNING**: the variable name `s1` is spelled with the number `1`, **not** the letter `l`."
   ]
  },
  {
   "cell_type": "code",
   "execution_count": 19,
   "metadata": {
    "deletable": false,
    "nbgrader": {
     "cell_type": "code",
     "checksum": "d903d30a00bf9c77070282209d6a1d29",
     "grade": false,
     "grade_id": "code-a8",
     "locked": false,
     "schema_version": 3,
     "solution": true
    }
   },
   "outputs": [
    {
     "name": "stdout",
     "output_type": "stream",
     "text": [
      "100697.043028669\n",
      "[hw3_s1] Good job!\n"
     ]
    }
   ],
   "source": [
    "# YOUR CODE HERE\n",
    "rho_Rs = rho_Richtmyer[int((10-1.5)/dx)]\n",
    "p_Rs = p_Richtmyer[int((10-1.5)/dx)]\n",
    "s1 = p_Rs / rho_Rs**gamma\n",
    "print(s1)\n",
    "mooc.check('hw3_s1', s1)"
   ]
  },
  {
   "cell_type": "code",
   "execution_count": null,
   "metadata": {
    "deletable": false,
    "editable": false,
    "nbgrader": {
     "cell_type": "code",
     "checksum": "094b51cc4d9aba6939c74ea2da6117af",
     "grade": true,
     "grade_id": "code-t8",
     "locked": true,
     "points": 5,
     "schema_version": 3,
     "solution": false
    }
   },
   "outputs": [],
   "source": []
  },
  {
   "cell_type": "markdown",
   "metadata": {
    "deletable": false,
    "editable": false,
    "nbgrader": {
     "cell_type": "markdown",
     "checksum": "a7f90eaeab2d5cb34e0112fe68b86a6d",
     "grade": false,
     "grade_id": "md-q9",
     "locked": true,
     "schema_version": 3,
     "solution": false
    }
   },
   "source": [
    "* **Q9 (5 points):** At $t = 0.01 s$, what's the value of the speed of sound, obtained with Lax-Friedrichs scheme, at location $x = -1.5 m$ (in $m/s$)?\n",
    "\n",
    "The speed of sound $a$ is defined as:\n",
    "\n",
    "$$\n",
    "a = \\sqrt{\\frac{\\gamma p}{\\rho}}\n",
    "$$\n",
    "\n",
    "Store your result in the variable `a2`; you can check your answer by calling the function `mooc.check('hw3_a2', a2)`."
   ]
  },
  {
   "cell_type": "code",
   "execution_count": 20,
   "metadata": {
    "deletable": false,
    "nbgrader": {
     "cell_type": "code",
     "checksum": "c423fba3e0e8eb7500d59b0d3f9f9230",
     "grade": false,
     "grade_id": "code-a9",
     "locked": false,
     "schema_version": 3,
     "solution": true
    }
   },
   "outputs": [
    {
     "name": "stdout",
     "output_type": "stream",
     "text": [
      "349.455377505974\n",
      "[hw3_a2] Good job!\n"
     ]
    }
   ],
   "source": [
    "# YOUR CODE HERE\n",
    "rho_La = rho_Lax[int((10-1.5)/dx)]\n",
    "p_La = p_Lax[int((10-1.5)/dx)]\n",
    "a2 = (gamma * p_La / rho_La)**0.5\n",
    "print(a2)\n",
    "mooc.check('hw3_a2', a2)"
   ]
  },
  {
   "cell_type": "code",
   "execution_count": null,
   "metadata": {
    "deletable": false,
    "editable": false,
    "nbgrader": {
     "cell_type": "code",
     "checksum": "ac9db86b5fa1b1d0c28036ee283082ab",
     "grade": true,
     "grade_id": "code-t9",
     "locked": true,
     "points": 5,
     "schema_version": 3,
     "solution": false
    }
   },
   "outputs": [],
   "source": []
  },
  {
   "cell_type": "markdown",
   "metadata": {
    "deletable": false,
    "editable": false,
    "nbgrader": {
     "cell_type": "markdown",
     "checksum": "7cb9eeef8f0d09e6a04462039cd41dde",
     "grade": false,
     "grade_id": "md-q10",
     "locked": true,
     "schema_version": 3,
     "solution": false
    }
   },
   "source": [
    "* **Q10 (5 points):** At $t = 0.01 s$, what's the value of the Mach number, obtained with Richtmyer scheme, at location $x = -1.5 m$?\n",
    "\n",
    "**Hint:** the Mach number is the ratio between the velocity and the speed of sound.\n",
    "\n",
    "Store your result in the variable `M1`; you can check your answer by calling the function `mooc.check('hw3_M1', M1)`.\n",
    "\n",
    "**WARNING**: the variable name `M1` is spelled with the number `1`, **not** the letter `l`."
   ]
  },
  {
   "cell_type": "code",
   "execution_count": 21,
   "metadata": {
    "deletable": false,
    "nbgrader": {
     "cell_type": "code",
     "checksum": "3018377227758292ca01348a03e5e84a",
     "grade": false,
     "grade_id": "code-a10",
     "locked": false,
     "schema_version": 3,
     "solution": true
    }
   },
   "outputs": [
    {
     "name": "stdout",
     "output_type": "stream",
     "text": [
      "0.5483352954050432\n",
      "[hw3_M1] Good job!\n"
     ]
    }
   ],
   "source": [
    "# YOUR CODE HERE\n",
    "# Mach number = velocity / speed of sound\n",
    "rho_Ra = rho_Richtmyer[int((10-1.5)/dx)]\n",
    "p_Ra = p_Richtmyer[int((10-1.5)/dx)]\n",
    "aR = (gamma * p_Ra / rho_Ra)**0.5\n",
    "v_Ra = v_Richtmyer[int((10-1.5)/dx)]\n",
    "M1 = v_Ra/aR\n",
    "print(M1)\n",
    "mooc.check('hw3_M1', M1)"
   ]
  },
  {
   "cell_type": "code",
   "execution_count": null,
   "metadata": {
    "deletable": false,
    "editable": false,
    "nbgrader": {
     "cell_type": "code",
     "checksum": "690f1eccbe94957fe6bb19527a394bd3",
     "grade": true,
     "grade_id": "code-t10",
     "locked": true,
     "points": 5,
     "schema_version": 3,
     "solution": false
    }
   },
   "outputs": [],
   "source": []
  },
  {
   "cell_type": "markdown",
   "metadata": {
    "deletable": false,
    "editable": false,
    "nbgrader": {
     "cell_type": "markdown",
     "checksum": "ef59f1bf2f703196fc7538be08e6e15c",
     "grade": false,
     "grade_id": "md-references",
     "locked": true,
     "schema_version": 3,
     "solution": false
    }
   },
   "source": [
    "## Reference\n",
    "\n",
    "---\n",
    "\n",
    "* Sod, Gary A. (1978), \"A survey of several finite difference methods for systems of nonlinear hyperbolic conservation laws,\" *J. Comput. Phys.*, Vol. 27, pp. 1–31 DOI: [10.1016/0021-9991(78)90023-2](http://dx.doi.org/10.1016%2F0021-9991%2878%2990023-2) // [PDF from unicamp.br](http://www.fem.unicamp.br/~phoenics/EM974/TG%20PHOENICS/BRUNO%20GALETTI%20TG%202013/a%20survey%20of%20several%20finite%20difference%20methods%20for%20systems%20of%20nonlinear%20hyperbolic%20conservation%20laws%20Sod%201978.pdf), checked Oct. 28, 2014."
   ]
  }
 ],
 "metadata": {
  "kernelspec": {
   "display_name": "Python 3",
   "language": "python",
   "name": "python3"
  },
  "language_info": {
   "codemirror_mode": {
    "name": "ipython",
    "version": 3
   },
   "file_extension": ".py",
   "mimetype": "text/x-python",
   "name": "python",
   "nbconvert_exporter": "python",
   "pygments_lexer": "ipython3",
   "version": "3.8.8"
  }
 },
 "nbformat": 4,
 "nbformat_minor": 1
}
